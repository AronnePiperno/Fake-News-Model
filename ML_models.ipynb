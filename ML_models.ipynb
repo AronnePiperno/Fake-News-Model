{
  "cells": [
    {
      "cell_type": "code",
      "execution_count": null,
      "metadata": {
        "id": "56s6Bp6a-It1"
      },
      "outputs": [],
      "source": [
        "import pandas as pd\n",
        "import os\n",
        "from sklearn.model_selection import train_test_split\n",
        "from sklearn.feature_extraction.text import TfidfVectorizer\n",
        "from sklearn.linear_model import PassiveAggressiveClassifier\n",
        "from sklearn.metrics import accuracy_score, precision_score, recall_score, f1_score, confusion_matrix\n",
        "from sklearn.linear_model import LogisticRegression\n",
        "from sklearn.naive_bayes import MultinomialNB\n",
        "from sklearn.ensemble import RandomForestClassifier\n",
        "from sklearn.svm import LinearSVC\n",
        "from sklearn.neighbors import KNeighborsClassifier\n",
        "import numpy as np\n"
      ]
    },
    {
      "cell_type": "code",
      "execution_count": null,
      "metadata": {
        "colab": {
          "base_uri": "https://localhost:8080/"
        },
        "id": "H5Ibwe3D_aoc",
        "outputId": "741532ba-77a3-4618-8665-90123a6ebaf1"
      },
      "outputs": [],
      "source": [
        "!pip install gdown==4.6.0\n",
        "!gdown --folder https://drive.google.com/drive/u/1/folders/15Wn46r7gidaiZbx2ArFYsd7rjYH4y7JM"
      ]
    },
    {
      "cell_type": "code",
      "execution_count": null,
      "metadata": {
        "id": "SsfQhIlP-It4"
      },
      "outputs": [],
      "source": [
        "\n",
        "#open the csv files\n",
        "csv_path_fake = os.path.join( './', 'News_dataset', 'Fake.csv')\n",
        "csv_path_true = os.path.join( './', 'News_dataset', 'True.csv')\n",
        "\n",
        "df_fake = pd.read_csv(csv_path_fake)\n",
        "df_true = pd.read_csv(csv_path_true)\n"
      ]
    },
    {
      "cell_type": "code",
      "execution_count": null,
      "metadata": {
        "id": "fta4TO32-It5"
      },
      "outputs": [],
      "source": [
        "#add a label column to the dataframes\n",
        "df_fake['label'] = 'fake'\n",
        "df_true['label'] = 'true'\n",
        "\n",
        "df = pd.concat([df_fake, df_true], ignore_index=True)\n",
        "\n",
        "#save the dataframe to a csv file\n",
        "df.to_csv('news.csv', index=False)"
      ]
    },
    {
      "cell_type": "code",
      "execution_count": null,
      "metadata": {
        "id": "RAtJy4W9-It6"
      },
      "outputs": [],
      "source": [
        "# open the csv file with pandas\n",
        "\n",
        "df = pd.read_csv('news.csv')\n",
        "\n",
        "#split the data into train and test sets\n",
        "X_train, X_test, y_train, y_test = train_test_split(df['text'], df['label'], test_size=0.1, random_state=7)\n",
        "\n",
        "#initialize a TfidfVectorizer\n",
        "tfidf_vectorizer = TfidfVectorizer(stop_words='english', max_df=0.9)\n",
        "\n",
        "#fit and transform train set, transform test set\n",
        "tfidf_train = tfidf_vectorizer.fit_transform(X_train)\n",
        "tfidf_test = tfidf_vectorizer.transform(X_test)"
      ]
    },
    {
      "cell_type": "code",
      "execution_count": null,
      "metadata": {
        "id": "o3UCbrrk-lAA"
      },
      "outputs": [],
      "source": [
        "def calculate_and_save_metrics(y_test, y_pred, model_name, label, first = False, last = False, results = None, savename = ''):\n",
        "\n",
        "    accuracy = accuracy_score(y_test, y_pred)\n",
        "    precision = precision_score(y_test, y_pred, average='weighted')\n",
        "    recall = recall_score(y_test, y_pred, average='weighted')\n",
        "    f1 = f1_score(y_test, y_pred, average='weighted')\n",
        "\n",
        "    print('Accuracy: ', accuracy)\n",
        "    print('Precision: ', precision)\n",
        "    print('Recall: ', recall)\n",
        "    print('F1: ', f1)\n",
        "\n",
        "    print(confusion_matrix(y_test, y_pred, labels=label))\n",
        "\n",
        "    if first:\n",
        "        results = pd.DataFrame([[accuracy, precision, recall, f1]], columns=['accuracy', 'precision', 'recall', 'f1'], index=[model_name])\n",
        "    else:\n",
        "        results.loc[model_name] = [accuracy, precision, recall, f1]\n",
        "\n",
        "    if last:\n",
        "        results.to_csv(savename)\n",
        "\n",
        "    return results\n",
        "\n"
      ]
    },
    {
      "cell_type": "code",
      "execution_count": null,
      "metadata": {
        "id": "lycTNkCk-It6",
        "outputId": "2746725c-21bc-4257-db15-199ab02291c2"
      },
      "outputs": [
        {
          "name": "stdout",
          "output_type": "stream",
          "text": [
            "Accuracy:  0.9944320712694877\n",
            "Precision:  0.9944339701357502\n",
            "Recall:  0.9944320712694877\n",
            "F1:  0.9944317848085675\n",
            "[[2336   10]\n",
            " [  15 2129]]\n"
          ]
        }
      ],
      "source": [
        "label = ['fake', 'true']\n",
        "\n",
        "#initialize a PassiveAggressiveClassifier\n",
        "pac = PassiveAggressiveClassifier(max_iter=50)\n",
        "pac.fit(tfidf_train, y_train)\n",
        "\n",
        "#predict on the test set and calculate accuracy\n",
        "y_pred = pac.predict(tfidf_test)\n",
        "\n",
        "\n",
        "results = calculate_and_save_metrics(y_test, y_pred, 'PassiveAggressiveClassifier', label, True)"
      ]
    },
    {
      "cell_type": "code",
      "execution_count": null,
      "metadata": {
        "id": "eTvt27XZ-It7",
        "outputId": "1644ccbe-72c7-47e2-b61e-0493215ce07e"
      },
      "outputs": [
        {
          "name": "stdout",
          "output_type": "stream",
          "text": [
            "Accuracy:  0.9866369710467706\n",
            "Precision:  0.9866368213705528\n",
            "Recall:  0.9866369710467706\n",
            "F1:  0.9866367000464401\n",
            "[[2317   29]\n",
            " [  31 2113]]\n"
          ]
        }
      ],
      "source": [
        "#with logistic regression\n",
        "logreg = LogisticRegression()\n",
        "logreg.fit(tfidf_train, y_train)\n",
        "y_pred = logreg.predict(tfidf_test)\n",
        "\n",
        "\n",
        "results = calculate_and_save_metrics(y_test, y_pred, 'LogisticRegression', label, results=results)"
      ]
    },
    {
      "cell_type": "code",
      "execution_count": null,
      "metadata": {
        "id": "gwT5Zwgf-It8",
        "outputId": "f5433594-0f6a-4549-87b5-f44ef84fd90a"
      },
      "outputs": [
        {
          "name": "stdout",
          "output_type": "stream",
          "text": [
            "Accuracy:  0.9396436525612473\n",
            "Precision:  0.939656760061686\n",
            "Recall:  0.9396436525612473\n",
            "F1:  0.9396295976850317\n",
            "[[2221  125]\n",
            " [ 146 1998]]\n"
          ]
        }
      ],
      "source": [
        "#with multinomial naive bayes\n",
        "\n",
        "nb = MultinomialNB()\n",
        "nb.fit(tfidf_train, y_train)\n",
        "y_pred = nb.predict(tfidf_test)\n",
        "\n",
        "\n",
        "results = calculate_and_save_metrics(y_test, y_pred, 'MultinomialNB', label=label, results=results)"
      ]
    },
    {
      "cell_type": "code",
      "execution_count": null,
      "metadata": {
        "id": "o9zHKhft-lAC",
        "outputId": "69fdb5cf-714f-4951-c6b4-1e70c827c19d"
      },
      "outputs": [
        {
          "name": "stdout",
          "output_type": "stream",
          "text": [
            "Accuracy:  0.6561247216035635\n",
            "Precision:  0.773658716218475\n",
            "Recall:  0.6561247216035635\n",
            "F1:  0.6060047436568158\n",
            "[[2319   27]\n",
            " [1517  627]]\n"
          ]
        }
      ],
      "source": [
        "# with KNN\n",
        "\n",
        "knn = KNeighborsClassifier()\n",
        "knn.fit(tfidf_train, y_train)\n",
        "y_pred = knn.predict(tfidf_test)\n",
        "\n",
        "\n",
        "results = calculate_and_save_metrics(y_test, y_pred, 'KNeighborsClassifier', label=label, results=results)\n"
      ]
    },
    {
      "cell_type": "code",
      "execution_count": null,
      "metadata": {
        "id": "YodjLwAV-It8",
        "outputId": "a4bf0ac3-4685-4d61-866b-04fabd67379f"
      },
      "outputs": [
        {
          "name": "stdout",
          "output_type": "stream",
          "text": [
            "Accuracy:  0.9904231625835189\n",
            "Precision:  0.9904265610194284\n",
            "Recall:  0.9904231625835189\n",
            "F1:  0.9904236313996031\n",
            "[[2322   24]\n",
            " [  19 2125]]\n"
          ]
        }
      ],
      "source": [
        "# with a random forest classifier\n",
        "\n",
        "rf = RandomForestClassifier()\n",
        "rf.fit(tfidf_train, y_train)\n",
        "y_pred = rf.predict(tfidf_test)\n",
        "\n",
        "\n",
        "results = calculate_and_save_metrics(y_test, y_pred, 'RandomForestClassifier', label=label, results=results)"
      ]
    },
    {
      "cell_type": "code",
      "execution_count": null,
      "metadata": {
        "id": "S5nlj2uo-It9",
        "outputId": "68101f81-a5a7-4023-8f98-8c8f65e7b4e3"
      },
      "outputs": [
        {
          "name": "stdout",
          "output_type": "stream",
          "text": [
            "Accuracy:  0.9946547884187082\n",
            "Precision:  0.9946576855359367\n",
            "Recall:  0.9946547884187082\n",
            "F1:  0.9946544568146701\n",
            "[[2337    9]\n",
            " [  15 2129]]\n"
          ]
        }
      ],
      "source": [
        "# with a support vector machine\n",
        "\n",
        "svc = LinearSVC(random_state=0, dual='auto')\n",
        "svc.fit(tfidf_train, y_train)\n",
        "y_pred = svc.predict(tfidf_test)\n",
        "\n",
        "\n",
        "results = calculate_and_save_metrics(y_test, y_pred, 'LinearSVC', label=label, results=results, last=True, savename='results_kaggle.csv')"
      ]
    },
    {
      "cell_type": "code",
      "execution_count": null,
      "metadata": {
        "id": "H69Tw1N6-It9"
      },
      "outputs": [],
      "source": [
        "# using Liar dataset\n",
        "\n",
        "csv_path_liar_train = os.path.join( './', 'liar_dataset', 'train.tsv')\n",
        "csv_path_liar_test = os.path.join( './', 'liar_dataset', 'test.tsv')\n",
        "\n",
        "df_liar_train = pd.read_csv(csv_path_liar_train, sep='\\t', header=None)\n",
        "df_liar_test = pd.read_csv(csv_path_liar_test, sep='\\t', header=None)\n",
        "\n",
        "df_liar_train.columns = ['id', 'label', 'statement', 'subject', 'speaker', 'job', 'state', 'party', 'barely_true', 'false', 'half_true', 'mostly_true', 'pants_on_fire', 'context']\n",
        "df_liar_test.columns = ['id', 'label', 'statement', 'subject', 'speaker', 'job', 'state', 'party', 'barely_true', 'false', 'half_true', 'mostly_true', 'pants_on_fire', 'context']\n",
        "tfidf_vectorizer = TfidfVectorizer(stop_words='english', max_df=0.9)\n",
        "\n",
        "#fit and transform train set, transform test set\n",
        "tfidf_train = tfidf_vectorizer.fit_transform(df_liar_train['statement'])\n",
        "tfidf_test = tfidf_vectorizer.transform(df_liar_test['statement'])\n",
        "\n",
        "label = ['true', 'mostly-true', 'half-true', 'barely-true', 'false', 'pants-fire']"
      ]
    },
    {
      "cell_type": "code",
      "execution_count": null,
      "metadata": {
        "id": "H5MO9JQh-It-",
        "outputId": "504b152b-a6f2-44bc-cb4c-75887e24daa6"
      },
      "outputs": [
        {
          "name": "stdout",
          "output_type": "stream",
          "text": [
            "Accuracy:  0.23362273086029992\n",
            "Precision:  0.23245313772747705\n",
            "Recall:  0.23362273086029992\n",
            "F1:  0.2323593773721207\n",
            "[[43 38 46 20 52  9]\n",
            " [50 52 50 37 37 15]\n",
            " [50 56 58 40 40 21]\n",
            " [33 45 29 38 46 21]\n",
            " [36 49 34 34 86 10]\n",
            " [13 10 15 15 20 19]]\n"
          ]
        }
      ],
      "source": [
        "#initialize a PassiveAggressiveClassifier\n",
        "\n",
        "pac = PassiveAggressiveClassifier(max_iter=1000)\n",
        "pac.fit(tfidf_train, df_liar_train['label'])\n",
        "\n",
        "#predict on the test set and calculate accuracy\n",
        "y_pred = pac.predict(tfidf_test)\n",
        "\n",
        "\n",
        "results = calculate_and_save_metrics(df_liar_test['label'], y_pred, 'PassiveAggressiveClassifier', label, first=True)"
      ]
    },
    {
      "cell_type": "code",
      "execution_count": null,
      "metadata": {
        "id": "ryaxdMxP-It-",
        "outputId": "9ce7a26d-15dd-4544-baaf-309a1b7f909f"
      },
      "outputs": [
        {
          "name": "stdout",
          "output_type": "stream",
          "text": [
            "Accuracy:  0.250197316495659\n",
            "Precision:  0.24541341568325675\n",
            "Recall:  0.250197316495659\n",
            "F1:  0.24157143838446754\n",
            "[[47 50 46 13 50  2]\n",
            " [50 56 65 25 44  1]\n",
            " [28 65 84 37 47  4]\n",
            " [22 37 53 44 55  1]\n",
            " [29 50 57 26 84  3]\n",
            " [ 7 14 25 13 31  2]]\n"
          ]
        }
      ],
      "source": [
        "# with logistic regression\n",
        "logreg = LogisticRegression(max_iter=1000)\n",
        "logreg.fit(tfidf_train, df_liar_train['label'])\n",
        "y_pred = logreg.predict(tfidf_test)\n",
        "\n",
        "\n",
        "results = calculate_and_save_metrics(df_liar_test['label'], y_pred, 'LogisticRegression', label, results=results)\n"
      ]
    },
    {
      "cell_type": "code",
      "execution_count": null,
      "metadata": {
        "id": "j08XvPQQ-It-",
        "outputId": "cae9e385-c09a-4280-c023-5e4bd47b389d"
      },
      "outputs": [
        {
          "name": "stdout",
          "output_type": "stream",
          "text": [
            "Accuracy:  0.23756906077348067\n",
            "Precision:  0.2308894522430316\n",
            "Recall:  0.23756906077348067\n",
            "F1:  0.20623444528178886\n",
            "[[ 15  59  79   3  52   0]\n",
            " [ 14  65 115   7  40   0]\n",
            " [  7  68 126  17  47   0]\n",
            " [  8  37  93  18  56   0]\n",
            " [ 12  51  99  10  77   0]\n",
            " [  2  18  36   7  29   0]]\n"
          ]
        },
        {
          "name": "stderr",
          "output_type": "stream",
          "text": [
            "/home/def/miniconda3/envs/big_data/lib/python3.11/site-packages/sklearn/metrics/_classification.py:1471: UndefinedMetricWarning: Precision is ill-defined and being set to 0.0 in labels with no predicted samples. Use `zero_division` parameter to control this behavior.\n",
            "  _warn_prf(average, modifier, msg_start, len(result))\n"
          ]
        }
      ],
      "source": [
        "# with multinomial naive bayes\n",
        "\n",
        "nb = MultinomialNB()\n",
        "nb.fit(tfidf_train, df_liar_train['label'])\n",
        "y_pred = nb.predict(tfidf_test)\n",
        "\n",
        "\n",
        "results = calculate_and_save_metrics(df_liar_test['label'], y_pred, 'MultinomialNB', label=label, results=results)"
      ]
    },
    {
      "cell_type": "code",
      "execution_count": null,
      "metadata": {
        "id": "MFzFZVEs-lAF",
        "outputId": "e978c4f7-8e16-4f49-d332-d325e59a449a"
      },
      "outputs": [
        {
          "name": "stdout",
          "output_type": "stream",
          "text": [
            "Accuracy:  0.21862667719021311\n",
            "Precision:  0.2148326623861786\n",
            "Recall:  0.21862667719021311\n",
            "F1:  0.2133969072351237\n",
            "[[31 48 39 33 48  9]\n",
            " [34 46 56 39 59  7]\n",
            " [24 49 64 59 63  6]\n",
            " [18 29 41 54 61  9]\n",
            " [26 38 52 46 76 11]\n",
            " [ 9  6 19 25 27  6]]\n"
          ]
        }
      ],
      "source": [
        "# with KNN\n",
        "\n",
        "knn = KNeighborsClassifier()\n",
        "knn.fit(tfidf_train, df_liar_train['label'])\n",
        "y_pred = knn.predict(tfidf_test)\n",
        "\n",
        "\n",
        "results = calculate_and_save_metrics(df_liar_test['label'], y_pred, 'KNeighborsClassifier', label=label, results=results)"
      ]
    },
    {
      "cell_type": "code",
      "execution_count": null,
      "metadata": {
        "id": "OuTb-nYk-It_",
        "outputId": "eae90176-dd14-4c71-a95e-cfd4df0cb99d"
      },
      "outputs": [
        {
          "name": "stdout",
          "output_type": "stream",
          "text": [
            "Accuracy:  0.2565114443567482\n",
            "Precision:  0.26151832390741203\n",
            "Recall:  0.2565114443567482\n",
            "F1:  0.24337528869577962\n",
            "[[ 28  61  37  12  68   2]\n",
            " [ 32  72  56  20  60   1]\n",
            " [ 21  69  81  15  75   4]\n",
            " [ 17  35  44  36  80   0]\n",
            " [ 18  40  56  26 103   6]\n",
            " [  6  14  11  11  45   5]]\n"
          ]
        }
      ],
      "source": [
        "# with a random forest classifier\n",
        "\n",
        "rf = RandomForestClassifier()\n",
        "rf.fit(tfidf_train, df_liar_train['label'])\n",
        "y_pred = rf.predict(tfidf_test)\n",
        "\n",
        "\n",
        "results = calculate_and_save_metrics(df_liar_test['label'], y_pred, 'RandomForestClassifier', label=label, results=results)"
      ]
    },
    {
      "cell_type": "code",
      "execution_count": null,
      "metadata": {
        "id": "NEqTdG4d-It_",
        "outputId": "d0fafd72-96d4-45f1-ac95-3cfb39b7bd05"
      },
      "outputs": [
        {
          "name": "stdout",
          "output_type": "stream",
          "text": [
            "Accuracy:  0.24546172059984214\n",
            "Precision:  0.24380461077723303\n",
            "Recall:  0.24546172059984214\n",
            "F1:  0.24410137719093702\n",
            "[[53 44 51 15 38  7]\n",
            " [52 49 53 36 42  9]\n",
            " [31 68 67 51 38 10]\n",
            " [24 31 47 56 44 10]\n",
            " [35 47 46 30 76 15]\n",
            " [10 12 21 17 22 10]]\n"
          ]
        }
      ],
      "source": [
        "# with a support vector machine\n",
        "\n",
        "svc = LinearSVC(random_state=0, dual='auto')\n",
        "svc.fit(tfidf_train, df_liar_train['label'])\n",
        "y_pred = svc.predict(tfidf_test)\n",
        "\n",
        "\n",
        "results = calculate_and_save_metrics(df_liar_test['label'], y_pred, 'LinearSVC', label=label, results=results, last=True, savename='results_liar.csv')"
      ]
    },
    {
      "cell_type": "code",
      "execution_count": null,
      "metadata": {
        "id": "CqW8EHZN-lAF"
      },
      "outputs": [],
      "source": [
        "# label true and mostly-true as true, and false, barely-true and pants-fire as false\n",
        "\n",
        "df_liar_train['label'] = df_liar_train['label'].replace(['mostly-true'], 'true')\n",
        "df_liar_test['label'] = df_liar_test['label'].replace(['mostly-true'], 'true')\n",
        "df_liar_train['label'] = df_liar_train['label'].replace(['barely-true'], 'false')\n",
        "df_liar_test['label'] = df_liar_test['label'].replace(['barely-true'], 'false')\n",
        "df_liar_train['label'] = df_liar_train['label'].replace(['pants-fire'], 'false')\n",
        "df_liar_test['label'] = df_liar_test['label'].replace(['pants-fire'], 'false')\n",
        "\n",
        "#fit and transform train set, transform test set\n",
        "tfidf_train = tfidf_vectorizer.fit_transform(df_liar_train['statement'])\n",
        "tfidf_test = tfidf_vectorizer.transform(df_liar_test['statement'])\n",
        "\n",
        "label = ['true', 'false']"
      ]
    },
    {
      "cell_type": "code",
      "execution_count": null,
      "metadata": {
        "id": "rsjaZJ1J-lAF",
        "outputId": "0baf76a0-3d8e-4c9f-952c-f68a5200dc28"
      },
      "outputs": [
        {
          "name": "stdout",
          "output_type": "stream",
          "text": [
            "Accuracy:  0.4127861089187056\n",
            "Precision:  0.41427441941641197\n",
            "Recall:  0.4127861089187056\n",
            "F1:  0.41300643629512673\n",
            "[[196 151]\n",
            " [192 268]]\n"
          ]
        }
      ],
      "source": [
        "# initialize a PassiveAggressiveClassifier\n",
        "pac = PassiveAggressiveClassifier(max_iter=1000)\n",
        "pac.fit(tfidf_train, df_liar_train['label'])\n",
        "\n",
        "#predict on the test set and calculate accuracy\n",
        "y_pred = pac.predict(tfidf_test)\n",
        "\n",
        "\n",
        "results = calculate_and_save_metrics(df_liar_test['label'], y_pred, 'PassiveAggressiveClassifier', label, first=True)"
      ]
    },
    {
      "cell_type": "code",
      "execution_count": null,
      "metadata": {
        "id": "TbZ6c2D4-lAF",
        "outputId": "ac936dc5-144a-41e1-e0d3-34d885175a02"
      },
      "outputs": [
        {
          "name": "stdout",
          "output_type": "stream",
          "text": [
            "Accuracy:  0.4846093133385951\n",
            "Precision:  0.44625772367506816\n",
            "Recall:  0.4846093133385951\n",
            "F1:  0.4455332077814675\n",
            "[[217 213]\n",
            " [149 381]]\n"
          ]
        }
      ],
      "source": [
        "# with logistic regression\n",
        "logreg = LogisticRegression(max_iter=1000)\n",
        "logreg.fit(tfidf_train, df_liar_train['label'])\n",
        "y_pred = logreg.predict(tfidf_test)\n",
        "\n",
        "\n",
        "results = calculate_and_save_metrics(df_liar_test['label'], y_pred, 'LogisticRegression', label, results=results)"
      ]
    },
    {
      "cell_type": "code",
      "execution_count": null,
      "metadata": {
        "id": "wjKiJaZk-lAG",
        "outputId": "28d51be2-477b-4104-ae65-48c77c4bbb96"
      },
      "outputs": [
        {
          "name": "stdout",
          "output_type": "stream",
          "text": [
            "Accuracy:  0.4996053670086819\n",
            "Precision:  0.603060107348248\n",
            "Recall:  0.4996053670086819\n",
            "F1:  0.4327770131024204\n",
            "[[193 256]\n",
            " [114 439]]\n"
          ]
        }
      ],
      "source": [
        "# with multinomial naive bayes\n",
        "\n",
        "nb = MultinomialNB()\n",
        "nb.fit(tfidf_train, df_liar_train['label'])\n",
        "y_pred = nb.predict(tfidf_test)\n",
        "\n",
        "\n",
        "results = calculate_and_save_metrics(df_liar_test['label'], y_pred, 'MultinomialNB', label=label, results=results)"
      ]
    },
    {
      "cell_type": "code",
      "execution_count": null,
      "metadata": {
        "id": "k_mJi9UA-lAG",
        "outputId": "d791bb1b-3c2c-4b5c-8848-36f47a3ea142"
      },
      "outputs": [
        {
          "name": "stdout",
          "output_type": "stream",
          "text": [
            "Accuracy:  0.4506708760852407\n",
            "Precision:  0.4352822744630089\n",
            "Recall:  0.4506708760852407\n",
            "F1:  0.43511527535387057\n",
            "[[164 227]\n",
            " [122 355]]\n"
          ]
        }
      ],
      "source": [
        "# with KNN\n",
        "\n",
        "knn = KNeighborsClassifier()\n",
        "knn.fit(tfidf_train, df_liar_train['label'])\n",
        "y_pred = knn.predict(tfidf_test)\n",
        "\n",
        "\n",
        "results = calculate_and_save_metrics(df_liar_test['label'], y_pred, 'KNeighborsClassifier', label=label, results=results)"
      ]
    },
    {
      "cell_type": "code",
      "execution_count": null,
      "metadata": {
        "id": "AqsXs_Hj-lAG",
        "outputId": "09b70470-a3da-42a7-f1e7-e24d8c23e21c"
      },
      "outputs": [
        {
          "name": "stdout",
          "output_type": "stream",
          "text": [
            "Accuracy:  0.48303078137332284\n",
            "Precision:  0.4685549554923833\n",
            "Recall:  0.48303078137332284\n",
            "F1:  0.4288359724279499\n",
            "[[205 240]\n",
            " [148 401]]\n"
          ]
        }
      ],
      "source": [
        "# with a random forest classifier\n",
        "\n",
        "rf = RandomForestClassifier()\n",
        "rf.fit(tfidf_train, df_liar_train['label'])\n",
        "y_pred = rf.predict(tfidf_test)\n",
        "\n",
        "\n",
        "results = calculate_and_save_metrics(df_liar_test['label'], y_pred, 'RandomForestClassifier', label=label, results=results)"
      ]
    },
    {
      "cell_type": "code",
      "execution_count": null,
      "metadata": {
        "id": "f60smapB-lAG",
        "outputId": "ac088d7f-1689-4b71-e132-4f3b69819058"
      },
      "outputs": [
        {
          "name": "stdout",
          "output_type": "stream",
          "text": [
            "Accuracy:  0.4554064719810576\n",
            "Precision:  0.43187177447611486\n",
            "Recall:  0.4554064719810576\n",
            "F1:  0.4394366790071621\n",
            "[[213 178]\n",
            " [167 329]]\n"
          ]
        }
      ],
      "source": [
        "# with a support vector machine\n",
        "\n",
        "svc = LinearSVC(random_state=0, dual='auto')\n",
        "svc.fit(tfidf_train, df_liar_train['label'])\n",
        "y_pred = svc.predict(tfidf_test)\n",
        "\n",
        "\n",
        "results = calculate_and_save_metrics(df_liar_test['label'], y_pred, 'LinearSVC', label=label, results=results, last=True, savename='results_liar_binary.csv')"
      ]
    },
    {
      "cell_type": "code",
      "execution_count": null,
      "metadata": {
        "id": "LqJEKnOQ-lAG"
      },
      "outputs": [],
      "source": [
        "# WELFake dataset\n",
        "\n",
        "csv_path_welfake = os.path.join( './', 'WELFake', 'WELFake_Dataset.csv')\n",
        "\n",
        "df_welfake = pd.read_csv(csv_path_welfake)\n",
        "\n",
        "# drop the rows with np.nan values on text column\n",
        "df_welfake = df_welfake.dropna(subset=['text'])\n",
        "\n",
        "X_train, X_test, y_train, y_test = train_test_split(df_welfake['text'], df_welfake['label'], test_size=0.1, random_state=7)\n"
      ]
    },
    {
      "cell_type": "code",
      "execution_count": null,
      "metadata": {
        "id": "VexaAFzc-lAG"
      },
      "outputs": [],
      "source": [
        "# initialize a TfidfVectorizer\n",
        "tfidf_vectorizer = TfidfVectorizer(stop_words='english', max_df=0.9)\n",
        "\n",
        "# fit and transform train set, transform test set\n",
        "tfidf_train = tfidf_vectorizer.fit_transform(X_train)\n",
        "tfidf_test = tfidf_vectorizer.transform(X_test)\n",
        "\n",
        "label = [0,1]"
      ]
    },
    {
      "cell_type": "code",
      "execution_count": null,
      "metadata": {
        "id": "ZTYhV-dM-lAG",
        "outputId": "6fb28e27-08a5-40cc-fceb-4c2535c3c466"
      },
      "outputs": [
        {
          "name": "stdout",
          "output_type": "stream",
          "text": [
            "Accuracy:  0.9588072122052704\n",
            "Precision:  0.9588822640330955\n",
            "Recall:  0.9588072122052704\n",
            "F1:  0.9588004132730461\n",
            "[[3369  173]\n",
            " [ 124 3544]]\n"
          ]
        }
      ],
      "source": [
        "# initialize a PassiveAggressiveClassifier\n",
        "pac = PassiveAggressiveClassifier(max_iter=50)\n",
        "pac.fit(tfidf_train, y_train)\n",
        "\n",
        "# predict on the test set and calculate accuracy\n",
        "y_pred = pac.predict(tfidf_test)\n",
        "\n",
        "\n",
        "results = calculate_and_save_metrics(y_test, y_pred, 'PassiveAggressiveClassifier', label, first=True)"
      ]
    },
    {
      "cell_type": "code",
      "execution_count": null,
      "metadata": {
        "id": "o3fHX9AO-lAG",
        "outputId": "b5ebb12c-d29e-482a-cb64-9511ba5564b0"
      },
      "outputs": [
        {
          "name": "stdout",
          "output_type": "stream",
          "text": [
            "Accuracy:  0.9439667128987518\n",
            "Precision:  0.9443510758208267\n",
            "Recall:  0.9439667128987518\n",
            "F1:  0.9439387007893646\n",
            "[[3285  257]\n",
            " [ 147 3521]]\n"
          ]
        }
      ],
      "source": [
        "# with logistic regression\n",
        "\n",
        "logreg = LogisticRegression()\n",
        "logreg.fit(tfidf_train, y_train)\n",
        "y_pred = logreg.predict(tfidf_test)\n",
        "\n",
        "\n",
        "results = calculate_and_save_metrics(y_test, y_pred, 'LogisticRegression', label, results=results)"
      ]
    },
    {
      "cell_type": "code",
      "execution_count": null,
      "metadata": {
        "id": "G2o8-RoP-lAG",
        "outputId": "0deeea2a-28fb-4f54-8574-9f734f4808a8"
      },
      "outputs": [
        {
          "name": "stdout",
          "output_type": "stream",
          "text": [
            "Accuracy:  0.8690707350901525\n",
            "Precision:  0.8690674737650315\n",
            "Recall:  0.8690707350901525\n",
            "F1:  0.8690680341744951\n",
            "[[3066  476]\n",
            " [ 468 3200]]\n"
          ]
        }
      ],
      "source": [
        "# with multinomial naive bayes\n",
        "\n",
        "nb = MultinomialNB()\n",
        "nb.fit(tfidf_train, y_train)\n",
        "y_pred = nb.predict(tfidf_test)\n",
        "\n",
        "\n",
        "results = calculate_and_save_metrics(y_test, y_pred, 'MultinomialNB', label=label, results=results)"
      ]
    },
    {
      "cell_type": "code",
      "execution_count": null,
      "metadata": {
        "id": "E2D5fAqP-lAG",
        "outputId": "72467b2a-9e7e-4787-8d3a-ab860b66f1a9"
      },
      "outputs": [
        {
          "name": "stdout",
          "output_type": "stream",
          "text": [
            "Accuracy:  0.6300970873786408\n",
            "Precision:  0.750457903727056\n",
            "Recall:  0.6300970873786408\n",
            "F1:  0.5755096553135339\n",
            "[[ 951 2591]\n",
            " [  76 3592]]\n"
          ]
        }
      ],
      "source": [
        "#with KNN\n",
        "\n",
        "knn = KNeighborsClassifier()\n",
        "knn.fit(tfidf_train, y_train)\n",
        "y_pred = knn.predict(tfidf_test)\n",
        "\n",
        "\n",
        "results = calculate_and_save_metrics(y_test, y_pred, 'KNeighborsClassifier', label=label, results=results)"
      ]
    },
    {
      "cell_type": "code",
      "execution_count": null,
      "metadata": {
        "id": "i34dPuXT-lAH",
        "outputId": "6f096eb4-a2a9-46c4-ed53-dcae611b6812"
      },
      "outputs": [
        {
          "name": "stdout",
          "output_type": "stream",
          "text": [
            "Accuracy:  0.9360610263522885\n",
            "Precision:  0.936470123059127\n",
            "Recall:  0.9360610263522885\n",
            "F1:  0.9360268995563436\n",
            "[[3254  288]\n",
            " [ 173 3495]]\n"
          ]
        }
      ],
      "source": [
        "# with a random forest classifier\n",
        "\n",
        "rf = RandomForestClassifier()\n",
        "rf.fit(tfidf_train, y_train)\n",
        "y_pred = rf.predict(tfidf_test)\n",
        "\n",
        "\n",
        "results = calculate_and_save_metrics(y_test, y_pred, 'RandomForestClassifier', label=label, results=results)"
      ]
    },
    {
      "cell_type": "code",
      "execution_count": null,
      "metadata": {
        "id": "2BRbLdvz-lAH",
        "outputId": "2af1537e-09df-4ba1-ed4a-714f99c4b984"
      },
      "outputs": [
        {
          "name": "stdout",
          "output_type": "stream",
          "text": [
            "Accuracy:  0.9611650485436893\n",
            "Precision:  0.9613885747423163\n",
            "Recall:  0.9611650485436893\n",
            "F1:  0.9611522961703536\n",
            "[[3361  181]\n",
            " [  99 3569]]\n"
          ]
        }
      ],
      "source": [
        "# with a support vector machine\n",
        "\n",
        "svc = LinearSVC(random_state=0, dual='auto')\n",
        "svc.fit(tfidf_train, y_train)\n",
        "y_pred = svc.predict(tfidf_test)\n",
        "\n",
        "\n",
        "results = calculate_and_save_metrics(y_test, y_pred, 'LinearSVC', label=label, results=results, last=True, savename='results_welfake.csv')"
      ]
    },
    {
      "cell_type": "code",
      "execution_count": null,
      "metadata": {
        "id": "0PokGmAE-lAH"
      },
      "outputs": [],
      "source": [
        "# df liar using statement speaker and party\n",
        "\n",
        "csv_path_liar_train = os.path.join( './', 'liar_dataset', 'train.tsv')\n",
        "csv_path_liar_test = os.path.join( './', 'liar_dataset', 'test.tsv')\n",
        "\n",
        "df_liar_train = pd.read_csv(csv_path_liar_train, sep='\\t', header=None)\n",
        "df_liar_test = pd.read_csv(csv_path_liar_test, sep='\\t', header=None)\n",
        "\n",
        "\n",
        "df_liar_train.columns = ['id', 'label', 'statement', 'subject', 'speaker', 'job', 'state', 'party', 'barely_true', 'false', 'half_true', 'mostly_true', 'pants_on_fire', 'context']\n",
        "df_liar_test.columns = ['id', 'label', 'statement', 'subject', 'speaker', 'job', 'state', 'party', 'barely_true', 'false', 'half_true', 'mostly_true', 'pants_on_fire', 'context']\n",
        "\n",
        "\n",
        "df_liar_train = df_liar_train[['label', 'statement', 'speaker', 'party']]\n",
        "df_liar_test = df_liar_test[['label', 'statement', 'speaker', 'party']]\n",
        "df_liar_train = df_liar_train.dropna()\n",
        "\n",
        "# vectorize the statement column\n",
        "tfidf_vectorizer = TfidfVectorizer(stop_words='english', max_df=0.9)\n",
        "tfidf_train = tfidf_vectorizer.fit_transform(df_liar_train['statement'])\n",
        "tfidf_test = tfidf_vectorizer.transform(df_liar_test['statement'])\n",
        "\n",
        "# vectorize the speaker column\n",
        "tfidf_train_speaker = tfidf_vectorizer.fit_transform(df_liar_train['speaker'])\n",
        "tfidf_test_speaker = tfidf_vectorizer.transform(df_liar_test['speaker'])\n",
        "\n",
        "# vectorize the party column\n",
        "tfidf_train_party = tfidf_vectorizer.fit_transform(df_liar_train['party'])\n",
        "tfidf_test_party = tfidf_vectorizer.transform(df_liar_test['party'])\n",
        "\n",
        "# concatenate the three vectors\n",
        "tfidf_train = np.concatenate((tfidf_train.toarray(), tfidf_train_speaker.toarray(), tfidf_train_party.toarray()), axis=1)\n",
        "tfidf_test = np.concatenate((tfidf_test.toarray(), tfidf_test_speaker.toarray(), tfidf_test_party.toarray()), axis=1)\n",
        "\n",
        "label = ['true', 'mostly-true', 'half-true', 'barely-true', 'false', 'pants-fire']"
      ]
    },
    {
      "cell_type": "code",
      "execution_count": null,
      "metadata": {
        "id": "d965rtr5-lAH",
        "outputId": "498e4817-a90a-4fa2-e59d-9ccb073f39e0"
      },
      "outputs": [
        {
          "name": "stdout",
          "output_type": "stream",
          "text": [
            "Accuracy:  0.22888713496448304\n",
            "Precision:  0.23023408526590852\n",
            "Recall:  0.22888713496448304\n",
            "F1:  0.22897047161020762\n",
            "[[43 50 48 18 40  9]\n",
            " [52 52 63 32 38  4]\n",
            " [56 56 66 33 37 17]\n",
            " [29 36 47 41 41 18]\n",
            " [42 41 50 36 64 16]\n",
            " [ 8  8 16 12 24 24]]\n"
          ]
        }
      ],
      "source": [
        "# initialize a PassiveAggressiveClassifier\n",
        "pac = PassiveAggressiveClassifier(max_iter=1000)\n",
        "pac.fit(tfidf_train, df_liar_train['label'])\n",
        "\n",
        "# predict on the test set and calculate accuracy\n",
        "y_pred = pac.predict(tfidf_test)\n",
        "\n",
        "\n",
        "results = calculate_and_save_metrics(df_liar_test['label'], y_pred, 'PassiveAggressiveClassifier', label, first=True)"
      ]
    },
    {
      "cell_type": "code",
      "execution_count": null,
      "metadata": {
        "id": "pQPuYTP7-lAH",
        "outputId": "056c75d1-4a11-40e3-cdfa-07a70f38becd"
      },
      "outputs": [
        {
          "name": "stdout",
          "output_type": "stream",
          "text": [
            "Accuracy:  0.2557221783741121\n",
            "Precision:  0.2622683610451152\n",
            "Recall:  0.2557221783741121\n",
            "F1:  0.2548912547110119\n",
            "[[60 50 43 15 37  3]\n",
            " [53 64 70 21 31  2]\n",
            " [40 67 68 46 43  1]\n",
            " [25 32 63 35 51  6]\n",
            " [43 37 48 32 77 12]\n",
            " [ 5  9 14 13 31 20]]\n"
          ]
        }
      ],
      "source": [
        "# with logistic regression\n",
        "\n",
        "logreg = LogisticRegression(max_iter=1000)\n",
        "logreg.fit(tfidf_train, df_liar_train['label'])\n",
        "y_pred = logreg.predict(tfidf_test)\n",
        "\n",
        "\n",
        "results = calculate_and_save_metrics(df_liar_test['label'], y_pred, 'LogisticRegression', label, results=results)"
      ]
    },
    {
      "cell_type": "code",
      "execution_count": null,
      "metadata": {
        "id": "c3QQLoeD-lAH",
        "outputId": "715e491e-739c-4b7f-f645-a6a55ec58d73"
      },
      "outputs": [
        {
          "name": "stdout",
          "output_type": "stream",
          "text": [
            "Accuracy:  0.2549329123914759\n",
            "Precision:  0.26958362898191\n",
            "Recall:  0.2549329123914759\n",
            "F1:  0.24034321415470822\n",
            "[[ 26  70  60   8  42   2]\n",
            " [ 17  81 100  10  32   1]\n",
            " [ 19  67 102  28  49   0]\n",
            " [  9  40  79  20  60   4]\n",
            " [ 19  45  80  19  81   5]\n",
            " [  2  12  18  11  36  13]]\n"
          ]
        }
      ],
      "source": [
        "# with multinomial naive bayes\n",
        "\n",
        "nb = MultinomialNB()\n",
        "nb.fit(tfidf_train, df_liar_train['label'])\n",
        "y_pred = nb.predict(tfidf_test)\n",
        "\n",
        "\n",
        "results = calculate_and_save_metrics(df_liar_test['label'], y_pred, 'MultinomialNB', label=label, results=results)"
      ]
    },
    {
      "cell_type": "code",
      "execution_count": null,
      "metadata": {
        "id": "pBJvLdlP-lAI",
        "outputId": "05e68c68-39a5-48ed-e502-6bd37a2a714f"
      },
      "outputs": [
        {
          "name": "stdout",
          "output_type": "stream",
          "text": [
            "Accuracy:  0.22257300710339384\n",
            "Precision:  0.2314443848997401\n",
            "Recall:  0.22257300710339384\n",
            "F1:  0.22221364309019398\n",
            "[[39 54 38 42 32  3]\n",
            " [31 50 66 50 43  1]\n",
            " [32 53 68 62 46  4]\n",
            " [12 30 35 61 64 10]\n",
            " [27 36 46 78 49 13]\n",
            " [ 3 10 13 22 29 15]]\n"
          ]
        }
      ],
      "source": [
        "# with KNN\n",
        "\n",
        "knn = KNeighborsClassifier()\n",
        "knn.fit(tfidf_train, df_liar_train['label'])\n",
        "y_pred = knn.predict(tfidf_test)\n",
        "\n",
        "\n",
        "results = calculate_and_save_metrics(df_liar_test['label'], y_pred, 'KNeighborsClassifier', label=label, results=results)"
      ]
    },
    {
      "cell_type": "code",
      "execution_count": null,
      "metadata": {
        "id": "KBVsA6ZV-lAI",
        "outputId": "bf00214b-706f-49bf-d5b3-e444a49142ca"
      },
      "outputs": [
        {
          "name": "stdout",
          "output_type": "stream",
          "text": [
            "Accuracy:  0.2462509865824783\n",
            "Precision:  0.25598791463936366\n",
            "Recall:  0.2462509865824783\n",
            "F1:  0.23947975224915122\n",
            "[[34 68 43  9 50  4]\n",
            " [36 70 58 16 59  2]\n",
            " [31 83 63 23 64  1]\n",
            " [15 50 45 31 67  4]\n",
            " [23 42 52 23 98 11]\n",
            " [ 6  9 25  9 27 16]]\n"
          ]
        }
      ],
      "source": [
        "# with a random forest classifier\n",
        "\n",
        "rf = RandomForestClassifier()\n",
        "rf.fit(tfidf_train, df_liar_train['label'])\n",
        "y_pred = rf.predict(tfidf_test)\n",
        "\n",
        "\n",
        "results = calculate_and_save_metrics(df_liar_test['label'], y_pred, 'RandomForestClassifier', label=label, results=results)"
      ]
    },
    {
      "cell_type": "code",
      "execution_count": null,
      "metadata": {
        "id": "DPOGsDOn-lAI",
        "outputId": "469e5c6d-7211-4109-b8c1-c0246b0a9ab1"
      },
      "outputs": [
        {
          "name": "stdout",
          "output_type": "stream",
          "text": [
            "Accuracy:  0.23993685872138912\n",
            "Precision:  0.24102368113167535\n",
            "Recall:  0.23993685872138912\n",
            "F1:  0.2402004306580156\n",
            "[[49 52 43 21 37  6]\n",
            " [56 57 58 34 30  6]\n",
            " [42 62 63 51 34 13]\n",
            " [31 33 49 41 42 16]\n",
            " [38 37 40 44 74 16]\n",
            " [ 7 17 15 12 21 20]]\n"
          ]
        }
      ],
      "source": [
        "# with a support vector machine\n",
        "\n",
        "svc = LinearSVC(random_state=0, dual='auto')\n",
        "svc.fit(tfidf_train, df_liar_train['label'])\n",
        "y_pred = svc.predict(tfidf_test)\n",
        "\n",
        "\n",
        "results = calculate_and_save_metrics(df_liar_test['label'], y_pred, 'LinearSVC', label=label, results=results, last=True, savename='results_liar_speaker_party.csv')"
      ]
    },
    {
      "cell_type": "code",
      "execution_count": null,
      "metadata": {
        "id": "UTkrjHse-lAI"
      },
      "outputs": [],
      "source": [
        "# binary liar using statement speaker and party\n",
        "\n",
        "df_liar_train['label'] = df_liar_train['label'].replace(['mostly-true'], 'true')\n",
        "df_liar_test['label'] = df_liar_test['label'].replace(['mostly-true'], 'true')\n",
        "df_liar_train['label'] = df_liar_train['label'].replace(['barely-true'], 'false')\n",
        "df_liar_test['label'] = df_liar_test['label'].replace(['barely-true'], 'false')\n",
        "df_liar_train['label'] = df_liar_train['label'].replace(['pants-fire'], 'false')\n",
        "df_liar_test['label'] = df_liar_test['label'].replace(['pants-fire'], 'false')\n",
        "\n",
        "# vectorize the statement column\n",
        "tfidf_train = tfidf_vectorizer.fit_transform(df_liar_train['statement'])\n",
        "tfidf_test = tfidf_vectorizer.transform(df_liar_test['statement'])\n",
        "\n",
        "# vectorize the speaker column\n",
        "tfidf_train_speaker = tfidf_vectorizer.fit_transform(df_liar_train['speaker'])\n",
        "tfidf_test_speaker = tfidf_vectorizer.transform(df_liar_test['speaker'])\n",
        "\n",
        "# vectorize the party column\n",
        "tfidf_train_party = tfidf_vectorizer.fit_transform(df_liar_train['party'])\n",
        "tfidf_test_party = tfidf_vectorizer.transform(df_liar_test['party'])\n",
        "\n",
        "# concatenate the three vectors\n",
        "tfidf_train = np.concatenate((tfidf_train.toarray(), tfidf_train_speaker.toarray(), tfidf_train_party.toarray()), axis=1)\n",
        "tfidf_test = np.concatenate((tfidf_test.toarray(), tfidf_test_speaker.toarray(), tfidf_test_party.toarray()), axis=1)\n",
        "\n",
        "label = ['true', 'false']"
      ]
    },
    {
      "cell_type": "code",
      "execution_count": null,
      "metadata": {
        "id": "xMXLanzV-lAI",
        "outputId": "97593ae2-a3cf-453f-84eb-2498803c74fb"
      },
      "outputs": [
        {
          "name": "stdout",
          "output_type": "stream",
          "text": [
            "Accuracy:  0.4262036306235201\n",
            "Precision:  0.43373585872217285\n",
            "Recall:  0.4262036306235201\n",
            "F1:  0.4295301446861111\n",
            "[[195 142]\n",
            " [161 280]]\n"
          ]
        }
      ],
      "source": [
        "# initialize a PassiveAggressiveClassifier\n",
        "\n",
        "pac = PassiveAggressiveClassifier(max_iter=1000)\n",
        "pac.fit(tfidf_train, df_liar_train['label'])\n",
        "\n",
        "# predict on the test set and calculate accuracy\n",
        "y_pred = pac.predict(tfidf_test)\n",
        "\n",
        "\n",
        "results = calculate_and_save_metrics(df_liar_test['label'], y_pred, 'PassiveAggressiveClassifier', label, first=True)"
      ]
    },
    {
      "cell_type": "code",
      "execution_count": null,
      "metadata": {
        "id": "yPcOvFVE-lAI",
        "outputId": "7c081d3f-98fd-461c-b38a-740b8ba63d77"
      },
      "outputs": [
        {
          "name": "stdout",
          "output_type": "stream",
          "text": [
            "Accuracy:  0.49171270718232046\n",
            "Precision:  0.4555053197588091\n",
            "Recall:  0.49171270718232046\n",
            "F1:  0.4641482017531922\n",
            "[[238 171]\n",
            " [155 361]]\n"
          ]
        }
      ],
      "source": [
        "# with logistic regression\n",
        "\n",
        "logreg = LogisticRegression(max_iter=1000)\n",
        "logreg.fit(tfidf_train, df_liar_train['label'])\n",
        "y_pred = logreg.predict(tfidf_test)\n",
        "\n",
        "\n",
        "results = calculate_and_save_metrics(df_liar_test['label'], y_pred, 'LogisticRegression', label, results=results)"
      ]
    },
    {
      "cell_type": "code",
      "execution_count": null,
      "metadata": {
        "id": "iMdzzmpb-lAJ",
        "outputId": "8b652996-dea8-43e3-c631-1bbea7690c2c"
      },
      "outputs": [
        {
          "name": "stdout",
          "output_type": "stream",
          "text": [
            "Accuracy:  0.5193370165745856\n",
            "Precision:  0.4799922721754087\n",
            "Recall:  0.5193370165745856\n",
            "F1:  0.46245516911100526\n",
            "[[249 196]\n",
            " [144 405]]\n"
          ]
        }
      ],
      "source": [
        "# with multinomial naive bayes\n",
        "\n",
        "nb = MultinomialNB()\n",
        "nb.fit(tfidf_train, df_liar_train['label'])\n",
        "y_pred = nb.predict(tfidf_test)\n",
        "\n",
        "\n",
        "results = calculate_and_save_metrics(df_liar_test['label'], y_pred, 'MultinomialNB', label=label, results=results)"
      ]
    },
    {
      "cell_type": "code",
      "execution_count": null,
      "metadata": {
        "id": "8ugNeXrM-lAJ",
        "outputId": "555bc1d1-7e06-40cb-bbec-128d11398812"
      },
      "outputs": [
        {
          "name": "stdout",
          "output_type": "stream",
          "text": [
            "Accuracy:  0.48697711128650356\n",
            "Precision:  0.46545565923182264\n",
            "Recall:  0.48697711128650356\n",
            "F1:  0.47018379312967296\n",
            "[[188 187]\n",
            " [112 381]]\n"
          ]
        }
      ],
      "source": [
        "# with KNN\n",
        "\n",
        "knn = KNeighborsClassifier()\n",
        "knn.fit(tfidf_train, df_liar_train['label'])\n",
        "y_pred = knn.predict(tfidf_test)\n",
        "\n",
        "\n",
        "results = calculate_and_save_metrics(df_liar_test['label'], y_pred, 'KNeighborsClassifier', label=label, results=results)"
      ]
    },
    {
      "cell_type": "code",
      "execution_count": null,
      "metadata": {
        "id": "v24_WrQs-lAJ",
        "outputId": "519ec06b-9ef0-428f-e596-ac03f9e470e1"
      },
      "outputs": [
        {
          "name": "stdout",
          "output_type": "stream",
          "text": [
            "Accuracy:  0.5035516969218626\n",
            "Precision:  0.4672927839945014\n",
            "Recall:  0.5035516969218626\n",
            "F1:  0.44938154763518495\n",
            "[[236 207]\n",
            " [152 397]]\n"
          ]
        }
      ],
      "source": [
        "# with a random forest classifier\n",
        "\n",
        "rf = RandomForestClassifier()\n",
        "rf.fit(tfidf_train, df_liar_train['label'])\n",
        "y_pred = rf.predict(tfidf_test)\n",
        "\n",
        "\n",
        "results = calculate_and_save_metrics(df_liar_test['label'], y_pred, 'RandomForestClassifier', label=label, results=results)"
      ]
    },
    {
      "cell_type": "code",
      "execution_count": null,
      "metadata": {
        "id": "ZUZYXE8D-lAJ",
        "outputId": "aa58a814-3616-4cdc-988f-3ef424792211"
      },
      "outputs": [
        {
          "name": "stdout",
          "output_type": "stream",
          "text": [
            "Accuracy:  0.4585635359116022\n",
            "Precision:  0.4426506927816209\n",
            "Recall:  0.4585635359116022\n",
            "F1:  0.4486165963853383\n",
            "[[223 156]\n",
            " [165 316]]\n"
          ]
        }
      ],
      "source": [
        "# with a support vector machine\n",
        "\n",
        "svc = LinearSVC(random_state=0, dual='auto')\n",
        "svc.fit(tfidf_train, df_liar_train['label'])\n",
        "y_pred = svc.predict(tfidf_test)\n",
        "\n",
        "\n",
        "results = calculate_and_save_metrics(df_liar_test['label'], y_pred, 'LinearSVC', label=label, results=results, last=True, savename='results_liar_speaker_party_binary.csv')"
      ]
    }
  ],
  "metadata": {
    "accelerator": "GPU",
    "colab": {
      "gpuType": "T4",
      "provenance": []
    },
    "kernelspec": {
      "display_name": "Python 3",
      "name": "python3"
    },
    "language_info": {
      "codemirror_mode": {
        "name": "ipython",
        "version": 3
      },
      "file_extension": ".py",
      "mimetype": "text/x-python",
      "name": "python",
      "nbconvert_exporter": "python",
      "pygments_lexer": "ipython3",
      "version": "3.11.4"
    }
  },
  "nbformat": 4,
  "nbformat_minor": 0
}
