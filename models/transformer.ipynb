{
  "cells": [
    {
      "cell_type": "code",
      "execution_count": null,
      "metadata": {
        "colab": {
          "base_uri": "https://localhost:8080/",
          "height": 1000
        },
        "id": "7RD7brcKjsuE",
        "outputId": "87e48cc6-c94d-4118-97a5-d90f532b3866"
      },
      "outputs": [],
      "source": [
        "!pip install torchtext==0.6.0\n",
        "\n",
        "!pip install -U pip setuptools wheel\n",
        "\n",
        "!pip install -U spacy==2.3.5\n",
        "\n",
        "!python -m spacy download en_core_web_sm"
      ]
    },
    {
      "cell_type": "code",
      "execution_count": 1,
      "metadata": {
        "id": "qtwyx3KJjLL1"
      },
      "outputs": [],
      "source": [
        "import torch\n",
        "import torch.nn as nn\n",
        "import torch.optim as optim\n",
        "import torch.nn.functional as F\n",
        "from torchtext.data import Field, TabularDataset, BucketIterator, LabelField\n",
        "import spacy\n",
        "import os\n",
        "import pandas as pd\n",
        "from sklearn.model_selection import train_test_split\n",
        "from tqdm import tqdm\n",
        "import random\n",
        "from sklearn.metrics import accuracy_score, precision_score, recall_score, f1_score, confusion_matrix\n",
        "import nltk\n",
        "from nltk.tokenize import word_tokenize\n",
        "import time"
      ]
    },
    {
      "cell_type": "code",
      "execution_count": null,
      "metadata": {
        "colab": {
          "base_uri": "https://localhost:8080/"
        },
        "id": "_Ym_iF-JjONo",
        "outputId": "99aaaf01-0206-4f8e-a8ff-47d4dbe4e586"
      },
      "outputs": [],
      "source": [
        "!pip install gdown==4.6.0\n",
        "!gdown --folder https://drive.google.com/drive/u/1/folders/15Wn46r7gidaiZbx2ArFYsd7rjYH4y7JM"
      ]
    },
    {
      "cell_type": "code",
      "execution_count": null,
      "metadata": {
        "id": "y-qBBXsSjVOv"
      },
      "outputs": [],
      "source": [
        "# Set random seed for reproducibility\n",
        "seed = 1234\n",
        "torch.manual_seed(seed)\n",
        "torch.backends.cudnn.deterministic = True\n",
        "device = torch.device('cuda' if torch.cuda.is_available() else 'cpu')"
      ]
    },
    {
      "cell_type": "code",
      "execution_count": null,
      "metadata": {
        "id": "SkX7VpRRjDuE"
      },
      "outputs": [],
      "source": [
        "# load the liar dataset\n",
        "csv_path_liar_train = os.path.join( '/content', 'liar_dataset', 'train.tsv')\n",
        "csv_path_liar_test = os.path.join( '/content', 'liar_dataset', 'test.tsv')\n",
        "\n",
        "df_liar_train = pd.read_csv(csv_path_liar_train, sep='\\t', header=None)\n",
        "df_liar_test = pd.read_csv(csv_path_liar_test, sep='\\t', header=None)\n",
        "\n",
        "df_liar_train.columns = ['id', 'label', 'statement', 'subject', 'speaker', 'job', 'state', 'party', 'barely_true', 'false', 'half_true', 'mostly_true', 'pants_on_fire', 'context']\n",
        "df_liar_test.columns = ['id', 'label', 'statement', 'subject', 'speaker', 'job', 'state', 'party', 'barely_true', 'false', 'half_true', 'mostly_true', 'pants_on_fire', 'context']\n",
        "\n",
        "df_liar_train = df_liar_train[['label', 'statement']]\n",
        "df_liar_test = df_liar_test[['label', 'statement']]\n",
        "df_liar_train = df_liar_train.dropna()\n",
        "df_liar_test = df_liar_test.dropna()\n",
        "\n",
        "\n",
        "# save the train and test sets to csv files\n",
        "df_liar_train.to_csv('train.csv', index=False)\n",
        "df_liar_test.to_csv('test.csv', index=False)"
      ]
    },
    {
      "cell_type": "code",
      "execution_count": null,
      "metadata": {
        "colab": {
          "base_uri": "https://localhost:8080/"
        },
        "id": "0URtNWi6jYZn",
        "outputId": "d500b8a2-8162-4b28-c870-abf23ca95186"
      },
      "outputs": [
        {
          "name": "stderr",
          "output_type": "stream",
          "text": [
            ".vector_cache/glove.6B.zip: 862MB [02:39, 5.40MB/s]                           \n",
            "100%|█████████▉| 399999/400000 [00:21<00:00, 18863.02it/s]\n"
          ]
        }
      ],
      "source": [
        "nlp = spacy.load(\"en_core_web_sm\")\n",
        "def tokenize_spacy(text):\n",
        "    return [token.text for token in nlp(text)]\n",
        "\n",
        "\n",
        "# define the fields\n",
        "TEXT = Field(tokenize=tokenize_spacy, include_lengths=True, batch_first=True)\n",
        "LABEL = LabelField(dtype=torch.float, batch_first = True)\n",
        "\n",
        "fields = [('text', TEXT), ('label', LABEL)]\n",
        "train_data, test_data = TabularDataset.splits(\n",
        "    path='./',\n",
        "    train='train.csv',\n",
        "    test='test.csv',\n",
        "    format='csv',\n",
        "    skip_header=True,\n",
        "    fields=[('label', LABEL), ('text', TEXT)]\n",
        ")\n",
        "\n",
        "# split the train data into train and validation sets\n",
        "\n",
        "train_data, valid_data = train_data.split(random_state=random.seed(seed))\n",
        "\n",
        "# build the vocabulary\n",
        "MAX_VOCAB_SIZE = 25_000\n",
        "\n",
        "TEXT.build_vocab(train_data,\n",
        "                    max_size=MAX_VOCAB_SIZE,\n",
        "                    vectors=\"glove.6B.100d\",\n",
        "                    unk_init=torch.Tensor.normal_)\n",
        "LABEL.build_vocab(train_data)\n",
        "\n",
        "\n",
        "# Define iterator\n",
        "BATCH_SIZE = 64\n",
        "\n",
        "train_iterator, valid_iterator, test_iterator = BucketIterator.splits(\n",
        "    (train_data, valid_data, test_data),\n",
        "    batch_size=BATCH_SIZE,\n",
        "    sort_key=lambda x: len(x.text),\n",
        "    sort_within_batch=True,\n",
        "    device=device\n",
        "    )"
      ]
    },
    {
      "cell_type": "code",
      "execution_count": null,
      "metadata": {
        "id": "UPvLGsuGjZ7z"
      },
      "outputs": [],
      "source": [
        "# Define the transformer model\n",
        "class Transformer(nn.Module):\n",
        "    def __init__(self, input_dim, emb_dim, nhead, hid_dim, n_layers, output_dim, dropout):\n",
        "        super().__init__()\n",
        "\n",
        "        self.embedding = nn.Embedding(input_dim, emb_dim)\n",
        "        self.transformer = nn.Transformer(\n",
        "            d_model=emb_dim,\n",
        "            nhead=nhead,\n",
        "            num_encoder_layers=n_layers,\n",
        "            num_decoder_layers=n_layers,\n",
        "            dim_feedforward=hid_dim,\n",
        "            dropout=dropout\n",
        "        )\n",
        "        self.fc = nn.Linear(emb_dim, output_dim)\n",
        "        self.dropout = nn.Dropout(dropout)\n",
        "\n",
        "    def forward(self, text, text_lengths):\n",
        "      embedded = self.embedding(text)\n",
        "\n",
        "      # If the input is sparse, convert it to a dense tensor\n",
        "      if isinstance(embedded, torch.sparse.FloatTensor):\n",
        "          embedded = embedded.to_dense()\n",
        "\n",
        "      embedded = embedded.permute(1, 0, 2)\n",
        "\n",
        "      output = self.transformer(embedded, embedded)\n",
        "      output = output.mean(dim=0)\n",
        "      output = self.fc(output)\n",
        "\n",
        "      return F.log_softmax(output, dim=1)"
      ]
    },
    {
      "cell_type": "code",
      "execution_count": null,
      "metadata": {
        "colab": {
          "base_uri": "https://localhost:8080/"
        },
        "id": "JhjlWe4zjdNq",
        "outputId": "1e619da1-c50a-48e0-f9c7-3a1bc7ba3b16"
      },
      "outputs": [
        {
          "name": "stderr",
          "output_type": "stream",
          "text": [
            "/usr/local/lib/python3.10/dist-packages/torch/nn/modules/transformer.py:282: UserWarning: enable_nested_tensor is True, but self.use_nested_tensor is False because encoder_layer.self_attn.batch_first was not True(use batch_first for better inference performance)\n",
            "  warnings.warn(f\"enable_nested_tensor is True, but self.use_nested_tensor is False because {why_not_sparsity_fast_path}\")\n"
          ]
        }
      ],
      "source": [
        "# Initialize the model, optimizer, and loss function\n",
        "INPUT_DIM = len(TEXT.vocab)\n",
        "EMB_DIM = 100\n",
        "NHEAD = 4\n",
        "HID_DIM = 256\n",
        "N_LAYERS = 2\n",
        "OUTPUT_DIM = 6\n",
        "DROPOUT = 0.5\n",
        "\n",
        "model = Transformer(INPUT_DIM, EMB_DIM, NHEAD, HID_DIM, N_LAYERS, OUTPUT_DIM, DROPOUT)\n",
        "optimizer = optim.Adam(model.parameters())\n",
        "criterion = nn.CrossEntropyLoss()\n",
        "\n",
        "# Send the model to GPU if available\n",
        "\n",
        "model = model.to(device)\n",
        "criterion = criterion.to(device)"
      ]
    },
    {
      "cell_type": "code",
      "execution_count": null,
      "metadata": {
        "id": "CMkVurvfjeo7"
      },
      "outputs": [],
      "source": [
        "# Training loop\n",
        "# define the training function\n",
        "\n",
        "def categorical_accuracy(preds, y):\n",
        "    top_pred = preds.argmax(1, keepdim=True)\n",
        "    correct = top_pred.eq(y.view_as(top_pred)).sum()\n",
        "    return correct.float() / y.shape[0]\n",
        "\n",
        "def train(model, iterator, optimizer, criterion):\n",
        "\n",
        "    epoch_loss = 0\n",
        "    epoch_acc = 0\n",
        "\n",
        "    model.train()\n",
        "\n",
        "    for batch in tqdm(iterator):\n",
        "\n",
        "        optimizer.zero_grad()\n",
        "\n",
        "\n",
        "        text, text_lengths = batch.text\n",
        "\n",
        "        predictions = model(text, text_lengths).squeeze(1)\n",
        "\n",
        "        loss = criterion(predictions, batch.label.long())\n",
        "\n",
        "        acc = categorical_accuracy(predictions, batch.label.long())\n",
        "\n",
        "        loss.backward()\n",
        "\n",
        "        optimizer.step()\n",
        "\n",
        "        epoch_loss += loss.item()\n",
        "        epoch_acc += acc.item()\n",
        "\n",
        "    return epoch_loss / len(iterator), epoch_acc / len(iterator)\n",
        "# Evaluation loop\n",
        "def evaluate(model, iterator, criterion):\n",
        "\n",
        "        epoch_loss = 0\n",
        "        epoch_acc = 0\n",
        "\n",
        "        all_predictions = []\n",
        "        all_labels = []\n",
        "\n",
        "\n",
        "        model.eval()\n",
        "\n",
        "        with torch.no_grad():\n",
        "\n",
        "            for batch in tqdm(iterator):\n",
        "\n",
        "                text, text_lengths = batch.text\n",
        "\n",
        "                predictions = model(text, text_lengths).squeeze(1)\n",
        "\n",
        "                loss = criterion(predictions, batch.label.long())\n",
        "\n",
        "                acc = categorical_accuracy(predictions, batch.label.long())\n",
        "\n",
        "                epoch_loss += loss.item()\n",
        "                epoch_acc += acc.item()\n",
        "\n",
        "                # calculate precision, recall and f1 score\n",
        "                y_pred = predictions.argmax(1, keepdim=True)\n",
        "                y_pred = y_pred.squeeze(1)\n",
        "                y_true = batch.label.long()\n",
        "                #y_true = y_true.squeeze(1)\n",
        "\n",
        "                all_predictions.extend(y_pred.cpu().numpy())\n",
        "                all_labels.extend(batch.label.long().cpu().numpy())\n",
        "\n",
        "        precision = precision_score(all_labels, all_predictions, average='weighted', zero_division=True)\n",
        "        recall = recall_score(all_labels, all_predictions, average='weighted', zero_division=True)\n",
        "        f1 = f1_score(all_labels, all_predictions, average='weighted')\n",
        "\n",
        "\n",
        "        return epoch_loss / len(iterator), epoch_acc / len(iterator), precision, recall, f1"
      ]
    },
    {
      "cell_type": "code",
      "execution_count": null,
      "metadata": {
        "colab": {
          "base_uri": "https://localhost:8080/"
        },
        "id": "bh_wRpBijhQI",
        "outputId": "f502ed4a-a0ef-477a-e9e3-4e9f42887ea0"
      },
      "outputs": [
        {
          "name": "stderr",
          "output_type": "stream",
          "text": [
            "100%|██████████| 112/112 [00:03<00:00, 30.03it/s]\n",
            "100%|██████████| 20/20 [00:00<00:00, 138.61it/s]\n"
          ]
        },
        {
          "name": "stdout",
          "output_type": "stream",
          "text": [
            "Epoch: 1, Test Loss: 1.761, Test Accuracy: 0.219\n"
          ]
        },
        {
          "name": "stderr",
          "output_type": "stream",
          "text": [
            "100%|██████████| 112/112 [00:02<00:00, 55.57it/s]\n",
            "100%|██████████| 20/20 [00:00<00:00, 131.02it/s]\n"
          ]
        },
        {
          "name": "stdout",
          "output_type": "stream",
          "text": [
            "Epoch: 2, Test Loss: 1.804, Test Accuracy: 0.204\n"
          ]
        },
        {
          "name": "stderr",
          "output_type": "stream",
          "text": [
            "100%|██████████| 112/112 [00:02<00:00, 53.20it/s]\n",
            "100%|██████████| 20/20 [00:00<00:00, 137.10it/s]\n"
          ]
        },
        {
          "name": "stdout",
          "output_type": "stream",
          "text": [
            "Epoch: 3, Test Loss: 1.802, Test Accuracy: 0.212\n"
          ]
        },
        {
          "name": "stderr",
          "output_type": "stream",
          "text": [
            "100%|██████████| 112/112 [00:01<00:00, 58.92it/s]\n",
            "100%|██████████| 20/20 [00:00<00:00, 136.91it/s]\n"
          ]
        },
        {
          "name": "stdout",
          "output_type": "stream",
          "text": [
            "Epoch: 4, Test Loss: 1.827, Test Accuracy: 0.228\n"
          ]
        },
        {
          "name": "stderr",
          "output_type": "stream",
          "text": [
            "100%|██████████| 112/112 [00:02<00:00, 47.95it/s]\n",
            "100%|██████████| 20/20 [00:00<00:00, 105.16it/s]\n"
          ]
        },
        {
          "name": "stdout",
          "output_type": "stream",
          "text": [
            "Epoch: 5, Test Loss: 1.987, Test Accuracy: 0.211\n"
          ]
        }
      ],
      "source": [
        "# Training and evaluation\n",
        "N_EPOCHS = 5\n",
        "\n",
        "for epoch in range(N_EPOCHS):\n",
        "    train(model, train_iterator, optimizer, criterion)\n",
        "    test_loss, test_accuracy, _, _, _ = evaluate(model, test_iterator, criterion)\n",
        "    print(f'Epoch: {epoch+1}, Test Loss: {test_loss:.3f}, Test Accuracy: {test_accuracy:.3f}')\n",
        "\n",
        "# Save the trained model\n",
        "torch.save(model.state_dict(), 'fake_news_transformer_model.pth')"
      ]
    },
    {
      "cell_type": "code",
      "execution_count": null,
      "metadata": {
        "colab": {
          "base_uri": "https://localhost:8080/"
        },
        "id": "x3gQaLTpwMl0",
        "outputId": "75784de2-5b76-4e22-ec3d-8441b1a122d0"
      },
      "outputs": [
        {
          "name": "stderr",
          "output_type": "stream",
          "text": [
            "100%|██████████| 20/20 [00:00<00:00, 95.99it/s]"
          ]
        },
        {
          "name": "stdout",
          "output_type": "stream",
          "text": [
            "Test Loss: 1.987 | Test Acc: 21.08% | Precision: 0.16976947159985484 | Recall: 0.2107340173638516 | F1: 0.17456077812545948\n"
          ]
        },
        {
          "name": "stderr",
          "output_type": "stream",
          "text": [
            "\n"
          ]
        }
      ],
      "source": [
        "# evaluate the model on the test set\n",
        "test_loss, test_acc, precision, recall, f1 = evaluate(model, test_iterator, criterion)\n",
        "\n",
        "print(f'Test Loss: {test_loss:.3f} | Test Acc: {test_acc*100:.2f}% | Precision: {precision} | Recall: {recall} | F1: {f1}')\n",
        "\n",
        "# save the results to a csv file\n",
        "results = pd.DataFrame([[test_acc, precision, recall, f1]], columns=['accuracy', 'precision', 'recall', 'f1'], index=['Transformer'])\n",
        "results.to_csv('results_liar_transformer.csv')"
      ]
    },
    {
      "cell_type": "code",
      "execution_count": null,
      "metadata": {
        "colab": {
          "base_uri": "https://localhost:8080/"
        },
        "id": "L1kuNBok1e5F",
        "outputId": "5888212a-0501-460b-db0a-ab2c24212e88"
      },
      "outputs": [],
      "source": [
        "!pip install gdown==4.6.0\n",
        "!gdown --folder https://drive.google.com/drive/u/1/folders/1wf7mFLCqQo0t802IDkZKMOinciUwohuR"
      ]
    },
    {
      "cell_type": "code",
      "execution_count": null,
      "metadata": {
        "colab": {
          "base_uri": "https://localhost:8080/"
        },
        "id": "qaxi9GdN1hVp",
        "outputId": "e813c098-1699-4b48-c513-21c713460f30"
      },
      "outputs": [
        {
          "name": "stderr",
          "output_type": "stream",
          "text": [
            "[nltk_data] Downloading package punkt to /root/nltk_data...\n",
            "[nltk_data]   Unzipping tokenizers/punkt.zip.\n"
          ]
        }
      ],
      "source": [
        "SEED = 1234\n",
        "torch.manual_seed(SEED)\n",
        "torch.backends.cudnn.deterministic = True\n",
        "\n",
        "\n",
        "# set the device\n",
        "device = torch.device('cuda' if torch.cuda.is_available() else 'cpu')\n",
        "#device = torch.device('cpu')\n",
        "\n",
        "nltk.download('punkt')\n",
        "def tokenize(text):\n",
        "    return word_tokenize(text)\n",
        "\n",
        "\n",
        "\n",
        "# define the fields\n",
        "TEXT = Field(tokenize=tokenize, include_lengths=True, unk_token='<unk>', batch_first=True)\n",
        "LABEL = LabelField(dtype=torch.float)"
      ]
    },
    {
      "cell_type": "code",
      "execution_count": null,
      "metadata": {
        "id": "Mkz9LFh71rno"
      },
      "outputs": [],
      "source": [
        "# load the welfake dataset\n",
        "\n",
        "csv_path_welfake = os.path.join( '/content', 'WELFake', 'WELFake_Dataset.csv')\n",
        "\n",
        "df = pd.read_csv(csv_path_welfake)\n",
        "df = df.drop(['Unnamed: 0', 'title'], axis=1)\n",
        "df.columns = ['text', 'label']\n",
        "df['label'] = df['label'].replace('fake', 0)\n",
        "df['label'] = df['label'].replace('real', 1)\n",
        "df.to_csv('.//welfake.csv', index=False)\n",
        "# drop the rows with np.nan values on text column\n",
        "df = df.dropna(subset=['text'])\n",
        "df = df[df['text'].str.len() > 30]\n",
        "\n",
        "# split the dataset into train, validation and test sets\n",
        "train_df, test_df = train_test_split(df, test_size=0.2, random_state=SEED)\n",
        "\n",
        "\n",
        "####### DEBUG\n",
        "\n",
        "#train_df, test_df = train_test_split(test_df, test_size=0.2, random_state=SEED)\n",
        "\n",
        "# save the train, validation and test sets as csv files\n",
        "train_df.to_csv('.//welfake_train.csv', index=False)\n",
        "test_df.to_csv('.//welfake_test.csv', index=False)"
      ]
    },
    {
      "cell_type": "code",
      "execution_count": null,
      "metadata": {
        "id": "E8nQA4Cs1tr2"
      },
      "outputs": [],
      "source": [
        "# load the data\n",
        "train_data, test_data = TabularDataset.splits(\n",
        "    path='./',\n",
        "    train='welfake_train.csv',\n",
        "    test='welfake_test.csv',\n",
        "    format='csv',\n",
        "    fields=[('text', TEXT), ('label', LABEL)]\n",
        ")\n",
        "\n",
        "# split the train data into train and validation sets\n",
        "\n",
        "train_data, valid_data = train_data.split(random_state=random.seed(SEED))"
      ]
    },
    {
      "cell_type": "code",
      "execution_count": null,
      "metadata": {
        "colab": {
          "base_uri": "https://localhost:8080/"
        },
        "id": "BgGoXNI_1xVE",
        "outputId": "e062190d-0de0-4c0f-e831-b748c3c0adba"
      },
      "outputs": [
        {
          "name": "stderr",
          "output_type": "stream",
          "text": [
            ".vector_cache/glove.6B.zip: 862MB [02:42, 5.32MB/s]                           \n",
            "100%|█████████▉| 399999/400000 [00:20<00:00, 19502.90it/s]\n"
          ]
        }
      ],
      "source": [
        "# build the vocabulary\n",
        "MAX_VOCAB_SIZE = 25_000\n",
        "\n",
        "TEXT.build_vocab(train_data,\n",
        "                    max_size=MAX_VOCAB_SIZE,\n",
        "                    vectors=\"glove.6B.100d\",\n",
        "                    unk_init=torch.Tensor.normal_)\n",
        "\n",
        "LABEL.build_vocab(train_data)\n",
        "\n"
      ]
    },
    {
      "cell_type": "code",
      "execution_count": null,
      "metadata": {
        "id": "p_guFv4210yh"
      },
      "outputs": [],
      "source": [
        "# create the iterators\n",
        "BATCH_SIZE = 16\n",
        "\n",
        "train_iterator, valid_iterator, test_iterator = BucketIterator.splits(\n",
        "    (train_data, valid_data, test_data),\n",
        "    batch_size=BATCH_SIZE,\n",
        "    sort_key=lambda x: len(x.text),\n",
        "    sort_within_batch=True,\n",
        "    device=device\n",
        "    )"
      ]
    },
    {
      "cell_type": "code",
      "execution_count": 6,
      "metadata": {
        "id": "r2tipjZnRBk_"
      },
      "outputs": [],
      "source": [
        "# Define the transformer model\n",
        "class Transformer(nn.Module):\n",
        "    def __init__(self, input_dim, emb_dim, nhead, hid_dim, n_layers, output_dim, dropout):\n",
        "        super().__init__()\n",
        "\n",
        "        self.embedding = nn.Embedding(input_dim, emb_dim)\n",
        "        self.transformer = nn.Transformer(\n",
        "            d_model=emb_dim,\n",
        "            nhead=nhead,\n",
        "            num_encoder_layers=n_layers,\n",
        "            num_decoder_layers=n_layers,\n",
        "            dim_feedforward=hid_dim,\n",
        "            dropout=dropout\n",
        "        )\n",
        "        self.fc = nn.Linear(emb_dim, output_dim)\n",
        "        self.dropout = nn.Dropout(dropout)\n",
        "\n",
        "    def forward(self, text, text_lengths):\n",
        "      embedded = self.embedding(text)\n",
        "\n",
        "      # If the input is sparse, convert it to a dense tensor\n",
        "      if isinstance(embedded, torch.sparse.FloatTensor):\n",
        "          embedded = embedded.to_dense()\n",
        "\n",
        "      embedded = embedded.permute(1, 0, 2)\n",
        "\n",
        "      output = self.transformer(embedded, embedded)\n",
        "      output = output.mean(dim=0)\n",
        "      output = self.fc(output).squeeze(dim=0)\n",
        "\n",
        "      return output"
      ]
    },
    {
      "cell_type": "code",
      "execution_count": null,
      "metadata": {
        "colab": {
          "base_uri": "https://localhost:8080/"
        },
        "id": "6cmtRrZb15e6",
        "outputId": "49f57f76-832e-4ff1-e4ff-c0d597463839"
      },
      "outputs": [
        {
          "name": "stderr",
          "output_type": "stream",
          "text": [
            "/usr/local/lib/python3.10/dist-packages/torch/nn/modules/transformer.py:282: UserWarning: enable_nested_tensor is True, but self.use_nested_tensor is False because encoder_layer.self_attn.batch_first was not True(use batch_first for better inference performance)\n",
            "  warnings.warn(f\"enable_nested_tensor is True, but self.use_nested_tensor is False because {why_not_sparsity_fast_path}\")\n"
          ]
        }
      ],
      "source": [
        "# Initialize the model, optimizer, and loss function\n",
        "INPUT_DIM = len(TEXT.vocab)\n",
        "EMB_DIM = 100\n",
        "NHEAD = 4\n",
        "HID_DIM = 256\n",
        "N_LAYERS = 2\n",
        "OUTPUT_DIM = 1\n",
        "DROPOUT = 0.5\n",
        "\n",
        "model = Transformer(INPUT_DIM, EMB_DIM, NHEAD, HID_DIM, N_LAYERS, OUTPUT_DIM, DROPOUT)\n",
        "optimizer = optim.Adam(model.parameters(), lr = .001)\n",
        "torch.nn.utils.clip_grad_norm_(model.parameters(), max_norm=1)\n",
        "criterion = nn.BCEWithLogitsLoss()\n",
        "\n",
        "# Send the model to GPU if available\n",
        "\n",
        "model = model.to(device)\n",
        "criterion = criterion.to(device)"
      ]
    },
    {
      "cell_type": "code",
      "execution_count": 7,
      "metadata": {
        "id": "Up7EDZMh1-vp"
      },
      "outputs": [],
      "source": [
        "# Training loop\n",
        "# define the training function\n",
        "def binary_accuracy(preds, y):\n",
        "    threshold = 0.5\n",
        "    binary_predictions = (preds > threshold).float()\n",
        "    correct = (binary_predictions == y).float()\n",
        "    #correct = (preds == y).float()\n",
        "    acc = correct.sum() / len(correct)\n",
        "    return acc\n",
        "\n",
        "def train(model, iterator, optimizer, criterion):\n",
        "\n",
        "\n",
        "    epoch_loss = 0\n",
        "    epoch_acc = 0\n",
        "\n",
        "    model.train()\n",
        "\n",
        "    for batch in tqdm(iterator):\n",
        "\n",
        "        optimizer.zero_grad()\n",
        "\n",
        "\n",
        "        text, text_lengths = batch.text\n",
        "\n",
        "        predictions = model(text, text_lengths).squeeze(1)\n",
        "\n",
        "        loss = criterion(predictions, batch.label.float())\n",
        "\n",
        "        acc = binary_accuracy(predictions, batch.label.long())\n",
        "\n",
        "        loss.backward()\n",
        "\n",
        "        optimizer.step()\n",
        "\n",
        "        epoch_loss += loss.item()\n",
        "        epoch_acc += acc.item()\n",
        "\n",
        "\n",
        "    return epoch_loss / len(iterator), epoch_acc / len(iterator)\n",
        "# Evaluation loop\n",
        "def evaluate(model, iterator, criterion):\n",
        "\n",
        "        epoch_loss = 0\n",
        "        epoch_acc = 0\n",
        "\n",
        "        all_predictions = []\n",
        "        all_labels = []\n",
        "\n",
        "\n",
        "        model.eval()\n",
        "\n",
        "        with torch.no_grad():\n",
        "\n",
        "            for batch in tqdm(iterator):\n",
        "\n",
        "                text, text_lengths = batch.text\n",
        "\n",
        "                try:\n",
        "                  predictions = model(text, text_lengths).squeeze(1)\n",
        "                except:\n",
        "                  predictions = model(text, text_lengths)\n",
        "                loss = criterion(predictions, batch.label)\n",
        "\n",
        "                acc = binary_accuracy(predictions, batch.label)\n",
        "\n",
        "                epoch_loss += loss.item()\n",
        "                epoch_acc += acc.item()\n",
        "\n",
        "                # Convert probability scores to binary predictions using a threshold (e.g., 0.5)\n",
        "                threshold = 0.5\n",
        "                binary_predictions = (predictions > threshold).float()\n",
        "\n",
        "                # calculate precision, recall and f1 score\n",
        "\n",
        "                all_predictions.extend(binary_predictions.cpu().numpy())\n",
        "                all_labels.extend(batch.label.long().cpu().numpy())\n",
        "\n",
        "\n",
        "        precision = precision_score(all_labels, all_predictions,  zero_division=True)\n",
        "        recall = recall_score(all_labels, all_predictions,  zero_division=True)\n",
        "        f1 = f1_score(all_labels, all_predictions)\n",
        "\n",
        "\n",
        "        return epoch_loss / len(iterator), epoch_acc / len(iterator), precision, recall, f1\n",
        "\n",
        "def epoch_time(start_time, end_time):\n",
        "\n",
        "        elapsed_time = end_time - start_time\n",
        "\n",
        "        elapsed_mins = int(elapsed_time / 60)\n",
        "        elapsed_secs = int(elapsed_time - (elapsed_mins * 60))\n",
        "\n",
        "        return elapsed_mins, elapsed_secs"
      ]
    },
    {
      "cell_type": "code",
      "execution_count": null,
      "metadata": {
        "colab": {
          "base_uri": "https://localhost:8080/"
        },
        "id": "euivxqp12HuY",
        "outputId": "949dca16-0a59-4c39-e0bc-919193ea0769"
      },
      "outputs": [
        {
          "name": "stderr",
          "output_type": "stream",
          "text": [
            "100%|██████████| 2492/2492 [13:34<00:00,  3.06it/s]\n",
            "100%|██████████| 1068/1068 [00:50<00:00, 21.18it/s]\n"
          ]
        },
        {
          "name": "stdout",
          "output_type": "stream",
          "text": [
            "Epoch: 01 | Epoch Time: 14m 25s\n",
            "\tTrain Loss: 0.198 | Train Acc: 91.81%\n",
            "\t Val. Loss: 0.178 |  Val. Acc: 92.97%\n"
          ]
        },
        {
          "name": "stderr",
          "output_type": "stream",
          "text": [
            "100%|██████████| 2492/2492 [14:28<00:00,  2.87it/s]\n",
            "100%|██████████| 1068/1068 [00:50<00:00, 21.30it/s]\n"
          ]
        },
        {
          "name": "stdout",
          "output_type": "stream",
          "text": [
            "Epoch: 02 | Epoch Time: 15m 18s\n",
            "\tTrain Loss: 0.099 | Train Acc: 96.43%\n",
            "\t Val. Loss: 0.093 |  Val. Acc: 97.24%\n"
          ]
        },
        {
          "name": "stderr",
          "output_type": "stream",
          "text": [
            "100%|██████████| 2492/2492 [14:40<00:00,  2.83it/s]\n",
            "100%|██████████| 1068/1068 [00:49<00:00, 21.61it/s]\n"
          ]
        },
        {
          "name": "stdout",
          "output_type": "stream",
          "text": [
            "Epoch: 03 | Epoch Time: 15m 29s\n",
            "\tTrain Loss: 0.105 | Train Acc: 96.24%\n",
            "\t Val. Loss: 0.302 |  Val. Acc: 93.22%\n"
          ]
        },
        {
          "name": "stderr",
          "output_type": "stream",
          "text": [
            "100%|██████████| 2492/2492 [13:59<00:00,  2.97it/s]\n",
            "100%|██████████| 1068/1068 [00:49<00:00, 21.37it/s]"
          ]
        },
        {
          "name": "stdout",
          "output_type": "stream",
          "text": [
            "Epoch: 04 | Epoch Time: 14m 49s\n",
            "\tTrain Loss: 0.258 | Train Acc: 88.04%\n",
            "\t Val. Loss: 0.733 |  Val. Acc: 50.40%\n"
          ]
        },
        {
          "name": "stderr",
          "output_type": "stream",
          "text": [
            "\n"
          ]
        },
        {
          "data": {
            "text/plain": [
              "<All keys matched successfully>"
            ]
          },
          "execution_count": 11,
          "metadata": {},
          "output_type": "execute_result"
        }
      ],
      "source": [
        "# train the model\n",
        "\n",
        "N_EPOCHS = 4\n",
        "\n",
        "best_valid_loss = float('inf')\n",
        "\n",
        "for epoch in range(N_EPOCHS):\n",
        "\n",
        "            start_time = time.time()\n",
        "\n",
        "            train_loss, train_acc = train(model, train_iterator, optimizer, criterion)\n",
        "            valid_loss, valid_acc, _, _, _ = evaluate(model, valid_iterator, criterion)\n",
        "\n",
        "            end_time = time.time()\n",
        "\n",
        "            epoch_mins, epoch_secs = epoch_time(start_time, end_time)\n",
        "\n",
        "            if valid_loss < best_valid_loss:\n",
        "                best_valid_loss = valid_loss\n",
        "                torch.save(model.state_dict(), 'welfake-model.pt')\n",
        "\n",
        "            print(f'Epoch: {epoch+1:02} | Epoch Time: {epoch_mins}m {epoch_secs}s')\n",
        "            print(f'\\tTrain Loss: {train_loss:.3f} | Train Acc: {train_acc*100:.2f}%')\n",
        "            print(f'\\t Val. Loss: {valid_loss:.3f} |  Val. Acc: {valid_acc*100:.2f}%')\n",
        "\n",
        "# evaluate the model on the test set\n",
        "\n",
        "model.load_state_dict(torch.load('welfake-model.pt'))"
      ]
    },
    {
      "cell_type": "code",
      "execution_count": null,
      "metadata": {
        "colab": {
          "base_uri": "https://localhost:8080/"
        },
        "id": "yeGMfdIQ6AVo",
        "outputId": "5b4827f4-9bd8-4b97-c2ca-c6e4d8ffc0b8"
      },
      "outputs": [
        {
          "name": "stderr",
          "output_type": "stream",
          "text": [
            "100%|██████████| 891/891 [00:47<00:00, 18.84it/s]"
          ]
        },
        {
          "name": "stdout",
          "output_type": "stream",
          "text": [
            "Test Loss: 0.093 | Test Acc: 97.15% | Precision: 0.97149313575598 | Recall: 0.9714907660978864 | F1: 0.9714564080718354\n"
          ]
        },
        {
          "name": "stderr",
          "output_type": "stream",
          "text": [
            "\n"
          ]
        }
      ],
      "source": [
        "# evaluate the model on the test set\n",
        "test_loss, test_acc, precision, recall, f1 = evaluate(model, test_iterator, criterion)\n",
        "\n",
        "print(f'Test Loss: {test_loss:.3f} | Test Acc: {test_acc*100:.2f}% | Precision: {precision} | Recall: {recall} | F1: {f1}')\n",
        "\n",
        "# save the results to a csv file\n",
        "results = pd.DataFrame([[test_acc, precision, recall, f1]], columns=['accuracy', 'precision', 'recall', 'f1'], index=['Transformer'])\n",
        "results.to_csv('results_WELFake_transformer.csv')"
      ]
    },
    {
      "cell_type": "code",
      "execution_count": 3,
      "metadata": {
        "id": "NlXYHIMalDyJ"
      },
      "outputs": [],
      "source": [
        "# Set random seed for reproducibility\n",
        "seed = 1234\n",
        "torch.manual_seed(seed)\n",
        "torch.backends.cudnn.deterministic = True\n",
        "device = torch.device('cuda' if torch.cuda.is_available() else 'cpu')"
      ]
    },
    {
      "cell_type": "code",
      "execution_count": 4,
      "metadata": {
        "id": "y1PwJHgalNln"
      },
      "outputs": [],
      "source": [
        "# load the liar dataset\n",
        "csv_path_liar_train = os.path.join( '/content', 'liar_dataset', 'train.tsv')\n",
        "csv_path_liar_test = os.path.join( '/content', 'liar_dataset', 'test.tsv')\n",
        "\n",
        "df_liar_train = pd.read_csv(csv_path_liar_train, sep='\\t', header=None)\n",
        "df_liar_test = pd.read_csv(csv_path_liar_test, sep='\\t', header=None)\n",
        "\n",
        "df_liar_train.columns = ['id', 'label', 'statement', 'subject', 'speaker', 'job', 'state', 'party', 'barely_true', 'false', 'half_true', 'mostly_true', 'pants_on_fire', 'context']\n",
        "df_liar_test.columns = ['id', 'label', 'statement', 'subject', 'speaker', 'job', 'state', 'party', 'barely_true', 'false', 'half_true', 'mostly_true', 'pants_on_fire', 'context']\n",
        "\n",
        "df_liar_train = df_liar_train[['label', 'statement']]\n",
        "df_liar_test = df_liar_test[['label', 'statement']]\n",
        "df_liar_train = df_liar_train.dropna()\n",
        "df_liar_test = df_liar_test.dropna()\n",
        "\n",
        "df_liar_train['label'] = df_liar_train['label'].replace(['mostly-true'], 'true')\n",
        "df_liar_test['label'] = df_liar_test['label'].replace(['mostly-true'], 'true')\n",
        "df_liar_train['label'] = df_liar_train['label'].replace(['half-true'], 'true')\n",
        "df_liar_test['label'] = df_liar_test['label'].replace(['half-true'], 'true')\n",
        "df_liar_train['label'] = df_liar_train['label'].replace(['barely-true'], 'false')\n",
        "df_liar_test['label'] = df_liar_test['label'].replace(['barely-true'], 'false')\n",
        "df_liar_train['label'] = df_liar_train['label'].replace(['pants-fire'], 'false')\n",
        "df_liar_test['label'] = df_liar_test['label'].replace(['pants-fire'], 'false')\n",
        "\n",
        "\n",
        "# save the train and test sets to csv files\n",
        "df_liar_train.to_csv('train.csv', index=False)\n",
        "df_liar_test.to_csv('test.csv', index=False)"
      ]
    },
    {
      "cell_type": "code",
      "execution_count": 5,
      "metadata": {
        "colab": {
          "base_uri": "https://localhost:8080/"
        },
        "id": "Omvgqpq2lXnI",
        "outputId": "a4514a56-69a5-4d9c-8a86-1688f6c04690"
      },
      "outputs": [
        {
          "name": "stderr",
          "output_type": "stream",
          "text": [
            ".vector_cache/glove.6B.zip: 862MB [02:44, 5.25MB/s]                           \n",
            "100%|█████████▉| 399999/400000 [00:21<00:00, 18956.16it/s]\n"
          ]
        }
      ],
      "source": [
        "nlp = spacy.load(\"en_core_web_sm\")\n",
        "def tokenize_spacy(text):\n",
        "    return [token.text for token in nlp(text)]\n",
        "\n",
        "\n",
        "# define the fields\n",
        "TEXT = Field(tokenize=tokenize_spacy, include_lengths=True, batch_first=True)\n",
        "LABEL = LabelField(dtype=torch.float, batch_first = True)\n",
        "\n",
        "fields = [('text', TEXT), ('label', LABEL)]\n",
        "train_data, test_data = TabularDataset.splits(\n",
        "    path='./',\n",
        "    train='train.csv',\n",
        "    test='test.csv',\n",
        "    format='csv',\n",
        "    skip_header=True,\n",
        "    fields=[('label', LABEL), ('text', TEXT)]\n",
        ")\n",
        "\n",
        "# split the train data into train and validation sets\n",
        "\n",
        "train_data, valid_data = train_data.split(random_state=random.seed(seed))\n",
        "\n",
        "# build the vocabulary\n",
        "MAX_VOCAB_SIZE = 25_000\n",
        "\n",
        "TEXT.build_vocab(train_data,\n",
        "                    max_size=MAX_VOCAB_SIZE,\n",
        "                    vectors=\"glove.6B.100d\",\n",
        "                    unk_init=torch.Tensor.normal_)\n",
        "LABEL.build_vocab(train_data)\n",
        "\n",
        "\n",
        "# Define iterator\n",
        "BATCH_SIZE = 64\n",
        "\n",
        "train_iterator, valid_iterator, test_iterator = BucketIterator.splits(\n",
        "    (train_data, valid_data, test_data),\n",
        "    batch_size=BATCH_SIZE,\n",
        "    sort_key=lambda x: len(x.text),\n",
        "    sort_within_batch=True,\n",
        "    device=device\n",
        "    )"
      ]
    },
    {
      "cell_type": "code",
      "execution_count": 19,
      "metadata": {
        "colab": {
          "base_uri": "https://localhost:8080/"
        },
        "id": "QBwNUZEOljBO",
        "outputId": "ea3a17f3-7ffe-4e74-e936-c1bd22009833"
      },
      "outputs": [
        {
          "name": "stderr",
          "output_type": "stream",
          "text": [
            "/usr/local/lib/python3.10/dist-packages/torch/nn/modules/transformer.py:282: UserWarning: enable_nested_tensor is True, but self.use_nested_tensor is False because encoder_layer.self_attn.batch_first was not True(use batch_first for better inference performance)\n",
            "  warnings.warn(f\"enable_nested_tensor is True, but self.use_nested_tensor is False because {why_not_sparsity_fast_path}\")\n"
          ]
        }
      ],
      "source": [
        "# Initialize the model, optimizer, and loss function\n",
        "INPUT_DIM = len(TEXT.vocab)\n",
        "EMB_DIM = 100\n",
        "NHEAD = 5\n",
        "HID_DIM = 256\n",
        "N_LAYERS = 2\n",
        "OUTPUT_DIM = 1\n",
        "DROPOUT = 0.6\n",
        "\n",
        "model = Transformer(INPUT_DIM, EMB_DIM, NHEAD, HID_DIM, N_LAYERS, OUTPUT_DIM, DROPOUT)\n",
        "optimizer = optim.Adam(model.parameters(), lr = .0001)\n",
        "torch.nn.utils.clip_grad_norm_(model.parameters(), max_norm=1)\n",
        "criterion = nn.BCEWithLogitsLoss()\n",
        "\n",
        "# Send the model to GPU if available\n",
        "\n",
        "model = model.to(device)\n",
        "criterion = criterion.to(device)"
      ]
    },
    {
      "cell_type": "code",
      "execution_count": 20,
      "metadata": {
        "colab": {
          "base_uri": "https://localhost:8080/"
        },
        "id": "DpLOMK83lpMn",
        "outputId": "5c386767-478d-45a1-89ac-7cf58c1eeb24"
      },
      "outputs": [
        {
          "name": "stderr",
          "output_type": "stream",
          "text": [
            "100%|██████████| 112/112 [00:02<00:00, 52.52it/s]\n",
            "100%|██████████| 48/48 [00:00<00:00, 215.96it/s]\n"
          ]
        },
        {
          "name": "stdout",
          "output_type": "stream",
          "text": [
            "Epoch: 01 | Epoch Time: 0m 2s\n",
            "\tTrain Loss: 0.688 | Train Acc: 55.98%\n",
            "\t Val. Loss: 0.679 |  Val. Acc: 56.58%\n"
          ]
        },
        {
          "name": "stderr",
          "output_type": "stream",
          "text": [
            "100%|██████████| 112/112 [00:02<00:00, 54.18it/s]\n",
            "100%|██████████| 48/48 [00:00<00:00, 212.12it/s]\n"
          ]
        },
        {
          "name": "stdout",
          "output_type": "stream",
          "text": [
            "Epoch: 02 | Epoch Time: 0m 2s\n",
            "\tTrain Loss: 0.686 | Train Acc: 56.03%\n",
            "\t Val. Loss: 0.687 |  Val. Acc: 56.54%\n"
          ]
        },
        {
          "name": "stderr",
          "output_type": "stream",
          "text": [
            "100%|██████████| 112/112 [00:02<00:00, 54.59it/s]\n",
            "100%|██████████| 48/48 [00:00<00:00, 197.18it/s]\n"
          ]
        },
        {
          "name": "stdout",
          "output_type": "stream",
          "text": [
            "Epoch: 03 | Epoch Time: 0m 2s\n",
            "\tTrain Loss: 0.683 | Train Acc: 56.04%\n",
            "\t Val. Loss: 0.686 |  Val. Acc: 57.00%\n"
          ]
        },
        {
          "name": "stderr",
          "output_type": "stream",
          "text": [
            "100%|██████████| 112/112 [00:02<00:00, 45.71it/s]\n",
            "100%|██████████| 48/48 [00:00<00:00, 202.21it/s]\n"
          ]
        },
        {
          "name": "stdout",
          "output_type": "stream",
          "text": [
            "Epoch: 04 | Epoch Time: 0m 2s\n",
            "\tTrain Loss: 0.681 | Train Acc: 56.01%\n",
            "\t Val. Loss: 0.714 |  Val. Acc: 56.97%\n"
          ]
        },
        {
          "name": "stderr",
          "output_type": "stream",
          "text": [
            "100%|██████████| 112/112 [00:02<00:00, 51.09it/s]\n",
            "100%|██████████| 48/48 [00:00<00:00, 217.49it/s]\n"
          ]
        },
        {
          "name": "stdout",
          "output_type": "stream",
          "text": [
            "Epoch: 05 | Epoch Time: 0m 2s\n",
            "\tTrain Loss: 0.678 | Train Acc: 56.08%\n",
            "\t Val. Loss: 0.799 |  Val. Acc: 56.93%\n"
          ]
        },
        {
          "name": "stderr",
          "output_type": "stream",
          "text": [
            "100%|██████████| 112/112 [00:02<00:00, 49.04it/s]\n",
            "100%|██████████| 48/48 [00:00<00:00, 203.92it/s]\n"
          ]
        },
        {
          "name": "stdout",
          "output_type": "stream",
          "text": [
            "Epoch: 06 | Epoch Time: 0m 2s\n",
            "\tTrain Loss: 0.675 | Train Acc: 56.36%\n",
            "\t Val. Loss: 0.735 |  Val. Acc: 58.30%\n"
          ]
        },
        {
          "name": "stderr",
          "output_type": "stream",
          "text": [
            "100%|██████████| 112/112 [00:02<00:00, 44.54it/s]\n",
            "100%|██████████| 48/48 [00:00<00:00, 211.44it/s]\n"
          ]
        },
        {
          "name": "stdout",
          "output_type": "stream",
          "text": [
            "Epoch: 07 | Epoch Time: 0m 2s\n",
            "\tTrain Loss: 0.673 | Train Acc: 56.61%\n",
            "\t Val. Loss: 0.760 |  Val. Acc: 58.56%\n"
          ]
        },
        {
          "name": "stderr",
          "output_type": "stream",
          "text": [
            "100%|██████████| 112/112 [00:03<00:00, 32.18it/s]\n",
            "100%|██████████| 48/48 [00:00<00:00, 229.57it/s]\n"
          ]
        },
        {
          "name": "stdout",
          "output_type": "stream",
          "text": [
            "Epoch: 08 | Epoch Time: 0m 3s\n",
            "\tTrain Loss: 0.670 | Train Acc: 57.10%\n",
            "\t Val. Loss: 0.800 |  Val. Acc: 58.27%\n"
          ]
        },
        {
          "name": "stderr",
          "output_type": "stream",
          "text": [
            "100%|██████████| 112/112 [00:02<00:00, 53.75it/s]\n",
            "100%|██████████| 48/48 [00:00<00:00, 216.46it/s]\n"
          ]
        },
        {
          "name": "stdout",
          "output_type": "stream",
          "text": [
            "Epoch: 09 | Epoch Time: 0m 2s\n",
            "\tTrain Loss: 0.668 | Train Acc: 57.03%\n",
            "\t Val. Loss: 0.870 |  Val. Acc: 58.33%\n"
          ]
        },
        {
          "name": "stderr",
          "output_type": "stream",
          "text": [
            "100%|██████████| 112/112 [00:02<00:00, 54.57it/s]\n",
            "100%|██████████| 48/48 [00:00<00:00, 213.07it/s]"
          ]
        },
        {
          "name": "stdout",
          "output_type": "stream",
          "text": [
            "Epoch: 10 | Epoch Time: 0m 2s\n",
            "\tTrain Loss: 0.666 | Train Acc: 57.88%\n",
            "\t Val. Loss: 0.865 |  Val. Acc: 58.30%\n"
          ]
        },
        {
          "name": "stderr",
          "output_type": "stream",
          "text": [
            "\n"
          ]
        },
        {
          "data": {
            "text/plain": [
              "<All keys matched successfully>"
            ]
          },
          "execution_count": 20,
          "metadata": {},
          "output_type": "execute_result"
        }
      ],
      "source": [
        "# train the model\n",
        "\n",
        "N_EPOCHS = 10\n",
        "\n",
        "best_valid_loss = float('inf')\n",
        "\n",
        "for epoch in range(N_EPOCHS):\n",
        "\n",
        "            start_time = time.time()\n",
        "\n",
        "            train_loss, train_acc = train(model, train_iterator, optimizer, criterion)\n",
        "            valid_loss, valid_acc, _, _, _ = evaluate(model, valid_iterator, criterion)\n",
        "\n",
        "            end_time = time.time()\n",
        "\n",
        "            epoch_mins, epoch_secs = epoch_time(start_time, end_time)\n",
        "\n",
        "            if valid_loss < best_valid_loss:\n",
        "                best_valid_loss = valid_loss\n",
        "                torch.save(model.state_dict(), 'LIAR-BINARY-model.pt')\n",
        "\n",
        "            print(f'Epoch: {epoch+1:02} | Epoch Time: {epoch_mins}m {epoch_secs}s')\n",
        "            print(f'\\tTrain Loss: {train_loss:.3f} | Train Acc: {train_acc*100:.2f}%')\n",
        "            print(f'\\t Val. Loss: {valid_loss:.3f} |  Val. Acc: {valid_acc*100:.2f}%')\n",
        "\n",
        "# evaluate the model on the test set\n",
        "\n",
        "model.load_state_dict(torch.load('LIAR-BINARY-model.pt'))"
      ]
    },
    {
      "cell_type": "code",
      "execution_count": 21,
      "metadata": {
        "colab": {
          "base_uri": "https://localhost:8080/"
        },
        "id": "eHSNh61slqT0",
        "outputId": "36d0479b-009f-4559-aa8b-9fef490953a6"
      },
      "outputs": [
        {
          "name": "stderr",
          "output_type": "stream",
          "text": [
            "100%|██████████| 20/20 [00:00<00:00, 84.48it/s]"
          ]
        },
        {
          "name": "stdout",
          "output_type": "stream",
          "text": [
            "Test Loss: 0.685 | Test Acc: 56.38% | Precision: 0.0 | Recall: 0.0 | F1: 0.0\n"
          ]
        },
        {
          "name": "stderr",
          "output_type": "stream",
          "text": [
            "\n"
          ]
        }
      ],
      "source": [
        "# evaluate the model on the test set\n",
        "test_loss, test_acc, precision, recall, f1 = evaluate(model, test_iterator, criterion)\n",
        "\n",
        "print(f'Test Loss: {test_loss:.3f} | Test Acc: {test_acc*100:.2f}% | Precision: {precision} | Recall: {recall} | F1: {f1}')\n",
        "\n",
        "# save the results to a csv file\n",
        "results = pd.DataFrame([[test_acc, precision, recall, f1]], columns=['accuracy', 'precision', 'recall', 'f1'], index=['Transformer'])\n",
        "results.to_csv('results_LIAR_BINARY_transformer.csv')"
      ]
    },
    {
      "cell_type": "code",
      "execution_count": 22,
      "metadata": {
        "colab": {
          "base_uri": "https://localhost:8080/"
        },
        "id": "nSVI-Etnpkfc",
        "outputId": "41171f7b-8e2d-4b25-ee2c-74734a1d3a5a"
      },
      "outputs": [
        {
          "name": "stdout",
          "output_type": "stream",
          "text": [
            "Downloading...\n",
            "From: https://drive.google.com/uc?id=1S2ihcguQAX6mU7WB7XFhFiWzBjlbFd2h\n",
            "To: /content/welfake-model-transformer.pt\n",
            "100% 11.8M/11.8M [00:00<00:00, 70.9MB/s]\n"
          ]
        }
      ],
      "source": [
        "!gdown 1S2ihcguQAX6mU7WB7XFhFiWzBjlbFd2h"
      ]
    },
    {
      "cell_type": "code",
      "execution_count": 23,
      "metadata": {
        "id": "6lvqBNxApj6M"
      },
      "outputs": [],
      "source": [
        "# Set random seed for reproducibility\n",
        "seed = 1234\n",
        "torch.manual_seed(seed)\n",
        "torch.backends.cudnn.deterministic = True\n",
        "device = torch.device('cuda' if torch.cuda.is_available() else 'cpu')"
      ]
    },
    {
      "cell_type": "code",
      "execution_count": 24,
      "metadata": {
        "id": "FYnflFagprvQ"
      },
      "outputs": [],
      "source": [
        "# Define the transformer model\n",
        "class Transformer(nn.Module):\n",
        "    def __init__(self, input_dim, emb_dim, nhead, hid_dim, n_layers, output_dim, dropout):\n",
        "        super().__init__()\n",
        "\n",
        "        self.embedding = nn.Embedding(input_dim, emb_dim)\n",
        "        self.transformer = nn.Transformer(\n",
        "            d_model=emb_dim,\n",
        "            nhead=nhead,\n",
        "            num_encoder_layers=n_layers,\n",
        "            num_decoder_layers=n_layers,\n",
        "            dim_feedforward=hid_dim,\n",
        "            dropout=dropout\n",
        "        )\n",
        "        self.fc = nn.Linear(emb_dim, output_dim)\n",
        "        self.dropout = nn.Dropout(dropout)\n",
        "\n",
        "    def forward(self, text, text_lengths):\n",
        "      embedded = self.embedding(text)\n",
        "\n",
        "      # If the input is sparse, convert it to a dense tensor\n",
        "      if isinstance(embedded, torch.sparse.FloatTensor):\n",
        "          embedded = embedded.to_dense()\n",
        "\n",
        "      embedded = embedded.permute(1, 0, 2)\n",
        "\n",
        "      output = self.transformer(embedded, embedded)\n",
        "      output = output.mean(dim=0)\n",
        "      output = self.fc(output).squeeze(dim=0)\n",
        "\n",
        "      return output"
      ]
    },
    {
      "cell_type": "code",
      "execution_count": 30,
      "metadata": {
        "id": "wp_RwZmzpvBX"
      },
      "outputs": [],
      "source": [
        "# Initialize the model, optimizer, and loss function\n",
        "INPUT_DIM = 25002\n",
        "EMB_DIM = 100\n",
        "NHEAD = 4\n",
        "HID_DIM = 256\n",
        "N_LAYERS = 2\n",
        "OUTPUT_DIM = 1\n",
        "DROPOUT = 0.5\n",
        "\n",
        "model = Transformer(INPUT_DIM, EMB_DIM, NHEAD, HID_DIM, N_LAYERS, OUTPUT_DIM, DROPOUT)\n",
        "optimizer = optim.Adam(model.parameters(), lr = .001)\n",
        "torch.nn.utils.clip_grad_norm_(model.parameters(), max_norm=1)\n",
        "criterion = nn.BCEWithLogitsLoss()\n",
        "\n",
        "# Send the model to GPU if available\n",
        "\n",
        "model = model.to(device)\n",
        "criterion = criterion.to(device)"
      ]
    },
    {
      "cell_type": "code",
      "execution_count": 31,
      "metadata": {
        "colab": {
          "base_uri": "https://localhost:8080/"
        },
        "id": "lQXVoatap1aT",
        "outputId": "7c43af11-311a-4bf4-abbe-c426bece3a85"
      },
      "outputs": [
        {
          "data": {
            "text/plain": [
              "<All keys matched successfully>"
            ]
          },
          "execution_count": 31,
          "metadata": {},
          "output_type": "execute_result"
        }
      ],
      "source": [
        "model.load_state_dict(torch.load('welfake-model-transformer.pt'))"
      ]
    },
    {
      "cell_type": "code",
      "execution_count": 33,
      "metadata": {
        "colab": {
          "base_uri": "https://localhost:8080/"
        },
        "id": "l8PPI77tq8KC",
        "outputId": "e43b7610-8110-48c4-f3de-c77d8c253597"
      },
      "outputs": [
        {
          "name": "stderr",
          "output_type": "stream",
          "text": [
            "100%|██████████| 20/20 [00:00<00:00, 89.69it/s]"
          ]
        },
        {
          "name": "stdout",
          "output_type": "stream",
          "text": [
            "Test Loss: 3.375 | Test Acc: 50.19% | Precision: 0.37962962962962965 | Recall: 0.2224231464737794 | F1: 0.2805017103762828\n"
          ]
        },
        {
          "name": "stderr",
          "output_type": "stream",
          "text": [
            "\n"
          ]
        }
      ],
      "source": [
        "# evaluate the model on the test set\n",
        "test_loss, test_acc, precision, recall, f1 = evaluate(model, test_iterator, criterion)\n",
        "\n",
        "print(f'Test Loss: {test_loss:.3f} | Test Acc: {test_acc*100:.2f}% | Precision: {precision} | Recall: {recall} | F1: {f1}')\n",
        "\n",
        "# save the results to a csv file\n",
        "results = pd.DataFrame([[test_acc, precision, recall, f1]], columns=['accuracy', 'precision', 'recall', 'f1'], index=['Transformer-Pretrained'])\n",
        "results.to_csv('results_LIAR_BINARY_transformer_PRETRAINED.csv')"
      ]
    }
  ],
  "metadata": {
    "accelerator": "GPU",
    "colab": {
      "gpuType": "T4",
      "provenance": []
    },
    "kernelspec": {
      "display_name": "Python 3",
      "name": "python3"
    },
    "language_info": {
      "name": "python"
    }
  },
  "nbformat": 4,
  "nbformat_minor": 0
}
